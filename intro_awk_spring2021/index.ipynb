{
 "cells": [
  {
   "cell_type": "markdown",
   "metadata": {},
   "source": [
    "## Manipulating files with AWK and grep\n",
    "### Bioinformatics Coffee Hour - April 20, 2021\n",
    "### Author: Danielle Khost\n"
   ]
  },
  {
   "cell_type": "markdown",
   "metadata": {},
   "source": [
    "\n",
    "## Manipulating files with grep\n",
    "--------\n",
    "In this lesson, we will explore how we can use basic command line tools to parse, subset, and rearrange common file types you will come across in bioinformatics.\n",
    "\n",
    "**grep** is a powerful command-line search tools that is included as part of most Unix-like systems. It is one of the most useful tools in bioinformatics! At the most basic level, grep searches for a string of characters that match a pattern and will print lines containing a match. Basic syntax is:  \n",
    "\n",
    "`grep 'pattern' file_to_search`  \n",
    "\n",
    "By default, grep will match any part of the string, so for example:"
   ]
  },
  {
   "cell_type": "code",
   "execution_count": null,
   "metadata": {},
   "outputs": [],
   "source": [
    "grep 'dog' data/sample.txt"
   ]
  },
  {
   "cell_type": "markdown",
   "metadata": {},
   "source": [
    "This will match the line, as will:"
   ]
  },
  {
   "cell_type": "code",
   "execution_count": null,
   "metadata": {},
   "outputs": [],
   "source": [
    "grep 'do' data/sample.txt"
   ]
  },
  {
   "cell_type": "markdown",
   "metadata": {},
   "source": [
    "It is important to be mindful of partial matching, as you can end up selecting lines that you do not intend! This is just the most basic use of grep however, and there are a huge number of ways to modify its behavior. Here are just a few useful examples:\n",
    "\n",
    "`grep -w` matches *entire words*.\n",
    "- So in the above example:  \n",
    "`grep -w 'dog' data/sample.txt` would match the string, but `grep -w 'do' data/sample.txt` would not.\n",
    "\n",
    "`grep -i` allows case-insensitive matches\n",
    "- In the above example, `grep -i 'DOG'` would still match the line\n",
    "\n",
    "`grep -v` *inverts*, returning lines that *do not* match the pattern.\n",
    "\n",
    "`grep -o` returns only the matching words, not the entire line.\n",
    "\n",
    "`grep -c` counts the number of lines that match the pattern.\n",
    "- Equivalent to `grep 'pattern' file | wc -l`\n",
    "\n",
    "Print lines before/after a match:\n",
    "- `grep -A [n]` returns matching line and *n* lines after match\n",
    "- `grep -B [n]` returns matching line and *n* lines before match\n",
    "- `grep -C [n]` returns matching line and *n* lines before *and* after match\n",
    "\n",
    "---\n",
    "\n",
    "The real strength of grep is that we can combine these different arguments together. For instance, let's say we have a single-line fasta file and we want to quickly pull out the X chromosome:"
   ]
  },
  {
   "cell_type": "code",
   "execution_count": null,
   "metadata": {},
   "outputs": [],
   "source": [
    "grep -w -A 1 '>X' data/dmel-subset-chromosomes.fasta"
   ]
  },
  {
   "cell_type": "markdown",
   "metadata": {},
   "source": [
    "This code will match line that start with \">X\" (using the -w flag to match whole word only) and will also print the line *after* the match as well using the `-A 1` flag (i.e. the sequence line of our fasta file; note this will not work if fasta file is multi-line!).\n",
    "\n",
    "There are many other functions of grep! When in doubt, remember you can check the help page using `man grep`...or just by using google :)"
   ]
  },
  {
   "cell_type": "markdown",
   "metadata": {},
   "source": [
    "### Pattern matching with regular expressions\n",
    "Regular expressions, aka \"regex\", are patterns that describe sets of strings. In other words, they allow you to match complex patterns with grep, not just exact matches. Regex is extremely powerful, but can also get (very) complicated, so we'll just stick to a few basic uses.\n",
    "\n",
    "Regex has certain meta-characters that are reserved for special uses:\n",
    "\n",
    "```\n",
    "^: matches pattern at start of string\n",
    "$: matches pattern at end of string\n",
    ".: matches any character except new lines\n",
    "[]: matches any of enclose characters\n",
    "[^]: matches any characters *except* ones enclosed (note: is different from ^)\n",
    "\\: \"escapes\" meta-characters, allows literal matching\n",
    "```\n",
    "\n",
    "Note that if we want to match any of these special characters literally, we would need to use a \"\\\\\" to escape it first. So if we wanted to literally match a period (\".\") character we would run:"
   ]
  },
  {
   "cell_type": "code",
   "execution_count": null,
   "metadata": {},
   "outputs": [],
   "source": [
    "grep '\\.' data/Homo_sapiens.GRCh38.subset.gff3 | head"
   ]
  },
  {
   "cell_type": "markdown",
   "metadata": {},
   "source": [
    "One example of how regex can come in handy is using the ^ special character to quickly count how many sequences are in a FASTA file, which we would do as follows:"
   ]
  },
  {
   "cell_type": "code",
   "execution_count": null,
   "metadata": {},
   "outputs": [],
   "source": [
    "grep -c '^>' data/dmel-subset-chromosomes.fasta"
   ]
  },
  {
   "cell_type": "markdown",
   "metadata": {},
   "source": [
    "This command matches lines in the FASTA file that start with a \">\" character, i.e. the header lines, and uses the -c argument to count how many matches!\n",
    "\n",
    "---"
   ]
  },
  {
   "cell_type": "markdown",
   "metadata": {},
   "source": [
    "## What is awk?\n",
    "Invented in the 1970's, [awk](https://en.wikipedia.org/wiki/AWK) is a scripting language included in most Unix-like operating systems. It specializes in one-liner programs and manipulating text files.\n",
    "\n",
    "In many cases, if you're parsing information from a text file (such as a [BED](https://en.wikipedia.org/wiki/BED_(file_format)) file, [FASTA](https://en.wikipedia.org/wiki/FASTA) file, etc.), you could write a Python script...or you could do it with awk in a single line!\n",
    "\n",
    "### Syntax\n",
    "awk scripts are organized as:\n",
    "\n",
    "`awk 'pattern { action; other action }' file`\n",
    "\n",
    "Meaning that every time that the pattern is true, awk will execute the action in the brackets.\n",
    "If no pattern is specified, the action will be taken for every line in the input file, e.g. the following command prints every line:"
   ]
  },
  {
   "cell_type": "code",
   "execution_count": null,
   "metadata": {},
   "outputs": [],
   "source": [
    "awk '{print}' data/hg38.genome | head"
   ]
  },
  {
   "cell_type": "markdown",
   "metadata": {},
   "source": [
    "The two most important patterns are `BEGIN` and `END`, which tell the action to take place before any lines are read and after the last line."
   ]
  },
  {
   "cell_type": "code",
   "execution_count": null,
   "metadata": {},
   "outputs": [],
   "source": [
    "awk 'BEGIN{sum=0} {sum+=1} END {print sum}' data/hg38.genome"
   ]
  },
  {
   "cell_type": "markdown",
   "metadata": {},
   "source": [
    " The above line sets a variable at the start of the script, adds 1 to it every line, then prints its value at the end."
   ]
  },
  {
   "cell_type": "markdown",
   "metadata": {},
   "source": [
    "If a variable hasn't been initialized, it is treated as 0 in numeric expressions, and an empty string in string expressions&mdash;awk will not print an error!\n",
    "So the following awk script also prints the number of lines in the file data/hg38.genome:"
   ]
  },
  {
   "cell_type": "code",
   "execution_count": null,
   "metadata": {},
   "outputs": [],
   "source": [
    "awk '{sum+=1} END {print sum}' data/hg38.genome"
   ]
  },
  {
   "cell_type": "markdown",
   "metadata": {},
   "source": [
    "### Input and output\n",
    "Input to awk is split into **records** and **fields**.\n",
    "- By default, **records** are separated by newline character, i.e # of records = # of lines in input file\n",
    "- Each record is subdivided into **fields**, i.e. columns, as determined by the field separator (see below)\n",
    "\n",
    "There are several important built-in variable in awk.\n",
    "The fields (columns) of each record are referred to by `$number`, so the first column would be `$1`, second would be `$2`, etc. `$0` refers to the entire record.\n",
    "\n",
    "So to print the second column of each line in the file, we'd use:"
   ]
  },
  {
   "cell_type": "code",
   "execution_count": null,
   "metadata": {},
   "outputs": [],
   "source": [
    "awk '{print $2}' data/hg38.genome | head"
   ]
  },
  {
   "cell_type": "markdown",
   "metadata": {},
   "source": [
    "And if we wanted to print the second then the first:"
   ]
  },
  {
   "cell_type": "code",
   "execution_count": null,
   "metadata": {},
   "outputs": [],
   "source": [
    "awk '{print $2,$1}' data/hg38.genome | head"
   ]
  },
  {
   "cell_type": "markdown",
   "metadata": {},
   "source": [
    "Note that when the different fields are separated with commas in the `print` statement, they are joined by the output field separator (the **OFS** variable, described below), which is by default a space.\n",
    "If the comma is omitted between fields (e.g., `awk '{print $2 $1}'`, they are concatenated without a separator.\n",
    "\n",
    "We can also print strings using using quotation marks:"
   ]
  },
  {
   "cell_type": "code",
   "execution_count": null,
   "metadata": {},
   "outputs": [],
   "source": [
    "awk '{print \"First column:\" $1}' data/hg38.genome | head"
   ]
  },
  {
   "cell_type": "markdown",
   "metadata": {},
   "source": [
    "Which for every line of the file will print the text \"First column:\" followed by the value in the first field."
   ]
  },
  {
   "cell_type": "markdown",
   "metadata": {},
   "source": [
    "---\n",
    "awk has several other built-in variables that are very useful for parsing text, including:\n",
    "\n",
    "|  |   |\n",
    "---|---|\n",
    "| **FS** | field separator (default: white space) |\n",
    "| **OFS** |  output field separator, i.e. what character separates fields when printing|\n",
    "| **RS** | record separator, i.e. what character records are split on (default: new line) |\n",
    "| **ORS** | output record separator |\n",
    "| **NR** | number of records in input (# lines by default) |\n",
    "\n",
    "Assigning to a field causes the entire record ($0) to be recomputed using **OFS**. We can use this to convert between file formats, e.g. make a comma-separated text file into a tab-separated file. First, let's look at the first few lines on our comma-separated file using `head`:"
   ]
  },
  {
   "cell_type": "code",
   "execution_count": null,
   "metadata": {},
   "outputs": [],
   "source": [
    "head data/enhancers.csv"
   ]
  },
  {
   "cell_type": "markdown",
   "metadata": {},
   "source": [
    "Now let's convert the file:"
   ]
  },
  {
   "cell_type": "code",
   "execution_count": null,
   "metadata": {},
   "outputs": [],
   "source": [
    "awk 'BEGIN{FS=\",\" ; OFS=\"\\t\"} {$1 = $1; print $0}' data/enhancers.csv | head"
   ]
  },
  {
   "cell_type": "markdown",
   "metadata": {},
   "source": [
    "### Conditionals and pattern matching\n",
    "Like other programming languages, awk allows conditional matching with if/else statements.\n",
    "\n",
    "`awk '{if(condition) action; else other_action}'`\n",
    "\n",
    "awk uses the following conditional operators:\n",
    "\n",
    "| | |\n",
    "|-|-|\n",
    "|==|equal to|\n",
    "|!=|not equal to|\n",
    "|>|greater than|\n",
    "|>=|greater than or equal to|\n",
    "|<|less than|\n",
    "|<=|less than or equal to|\n",
    "|&&|AND|\n",
    "| \\|\\| |OR|\n",
    "| ! | NOT |\n",
    "\n",
    "In addition, awk also supports string matching using regular expressions, using the following expressions:\n",
    "\n",
    "| | |\n",
    "|-|-|\n",
    "|\\~|matches|\n",
    "|!~|does not match|\n",
    "\n",
    "For string matching, the pattern being matched must be enclosed by slashes, like so:\n",
    "\n",
    "`awk '{if($1 ~ /pattern/) print}'`\n",
    "\n",
    "Note that if an action isn't specified, the default action is `{print}`, so the previous awk command is equivalent to the following, which specifies only a pattern expression:\n",
    "\n",
    "`awk '$1 ~ /pattern/'`\n",
    "\n",
    "---\n",
    "### Example uses:\n",
    "\n",
    "- Count number of sequences in a FASTQ file:"
   ]
  },
  {
   "cell_type": "code",
   "execution_count": null,
   "metadata": {},
   "outputs": [],
   "source": [
    "awk 'END{print NR/4}' data/example.fastq"
   ]
  },
  {
   "cell_type": "markdown",
   "metadata": {},
   "source": [
    "**Note**: this is technically safer than using grep, as you don't have to worry about accidentally counting the quality line.\n",
    "\n",
    "- Only print annotations on a specific scaffold (chr1) that fall between 1Mb and 2Mb from a BED annotation file (a common file type that lists genomic coordinates of certain features). First let's look at the first few lines of the file using `head`:"
   ]
  },
  {
   "cell_type": "code",
   "execution_count": null,
   "metadata": {},
   "outputs": [],
   "source": [
    "head data/Homo_sapiens_ucscGenes.subset.bed"
   ]
  },
  {
   "cell_type": "markdown",
   "metadata": {},
   "source": [
    "Now subset the file:"
   ]
  },
  {
   "cell_type": "code",
   "execution_count": null,
   "metadata": {},
   "outputs": [],
   "source": [
    "awk 'BEGIN{FS=\"\\t\";OFS=\"\\t\"} {if($1 == \"chr1\" && $2 >=1000000 && $2 <= 2000000) print}' data/Homo_sapiens_ucscGenes.subset.bed | head"
   ]
  },
  {
   "cell_type": "markdown",
   "metadata": {},
   "source": [
    "**Note**: when we specify that we only want annotations from chr1, we're using exact match (`== \"chr1\"`) and not pattern match (`~ /chr1/`)...why is this??"
   ]
  },
  {
   "cell_type": "markdown",
   "metadata": {},
   "source": [
    "- Another common type of annotation file is a Genome Feature File (GFF), which also lists coordinates. Let's look at the first few lines of the file:"
   ]
  },
  {
   "cell_type": "code",
   "execution_count": null,
   "metadata": {},
   "outputs": [],
   "source": [
    "head data/Homo_sapiens.GRCh38.subset.gff3"
   ]
  },
  {
   "cell_type": "markdown",
   "metadata": {},
   "source": [
    "Now let's subset the file and only print lines that match the string \"exon\" in their third column:"
   ]
  },
  {
   "cell_type": "code",
   "execution_count": null,
   "metadata": {},
   "outputs": [],
   "source": [
    "awk 'BEGIN{FS=\"\\t\"} {if($3 ~ /exon/) print $0}' data/Homo_sapiens.GRCh38.subset.gff3 | head"
   ]
  },
  {
   "cell_type": "markdown",
   "metadata": {},
   "source": [
    "- Convert from GFF (genome feature file) to BED file "
   ]
  },
  {
   "cell_type": "code",
   "execution_count": null,
   "metadata": {},
   "outputs": [],
   "source": [
    "grep -v '^#' data/Homo_sapiens.GRCh38.subset.gff3 | awk 'BEGIN{FS=\"\\t\"; OFS=\"\\t\"} {print $1,$4-1,$5}' | head"
   ]
  },
  {
   "cell_type": "markdown",
   "metadata": {},
   "source": [
    "**Note**: Annoyingly, BED and GFF files have different coordinate systems, i.e. BED start coordinate is 0 based, half-open, GFF is 1-based inclusive! Also, we are first using grep to skip the header lines in the GFF file.\n",
    "\n",
    "Alternatively, you could do the whole thing with only awk, no grep required:"
   ]
  },
  {
   "cell_type": "code",
   "execution_count": null,
   "metadata": {},
   "outputs": [],
   "source": [
    "awk 'BEGIN{FS=\"\\t\"; OFS=\"\\t\"} !/^#/ {print $1,$4-1,$5}' data/Homo_sapiens.GRCh38.subset.gff3 | head"
   ]
  },
  {
   "cell_type": "markdown",
   "metadata": {},
   "source": [
    "With this command, `!/^#/` is a pattern (like `BEGIN` or `END`) that tell awk to execute the print statement when the start of the line does not match a `#`. Use whichever makes the most sense to you!"
   ]
  },
  {
   "cell_type": "markdown",
   "metadata": {},
   "source": [
    "### Practice\n",
    "Using awk:\n",
    "\n",
    "* Pull out only the CDS annotations (i.e. has \"CDS\" in the 3rd column) from the GFF file data/Homo_sapiens.GRCh38.subset.gff3 and output them in BED format"
   ]
  },
  {
   "cell_type": "markdown",
   "metadata": {},
   "source": [
    "*Try it*"
   ]
  },
  {
   "cell_type": "code",
   "execution_count": null,
   "metadata": {},
   "outputs": [],
   "source": [
    "awk '...' data/Homo_sapiens.GRCh38.subset.gff3 | head"
   ]
  },
  {
   "cell_type": "markdown",
   "metadata": {},
   "source": [
    "*Solution*"
   ]
  },
  {
   "cell_type": "code",
   "execution_count": null,
   "metadata": {
    "tags": []
   },
   "outputs": [],
   "source": [
    "awk 'BEGIN{FS=\"\\t\"; OFS=\"\\t\"} {if($3 ~ /CDS/) print $1,$4-1,$5}' data/Homo_sapiens.GRCh38.subset.gff3"
   ]
  },
  {
   "cell_type": "markdown",
   "metadata": {},
   "source": [
    "- Calculate the average length of gene annotations from the file data/Homo_sapiens_ucscGenes.subset.bed"
   ]
  },
  {
   "cell_type": "markdown",
   "metadata": {},
   "source": [
    "*Try it*"
   ]
  },
  {
   "cell_type": "code",
   "execution_count": null,
   "metadata": {},
   "outputs": [],
   "source": [
    "awk '...' data/Homo_sapiens_ucscGenes.subset.bed"
   ]
  },
  {
   "cell_type": "markdown",
   "metadata": {},
   "source": [
    "*Solution*"
   ]
  },
  {
   "cell_type": "code",
   "execution_count": null,
   "metadata": {
    "tags": []
   },
   "outputs": [],
   "source": [
    "awk 'BEGIN{FS=\"\\t\"; sum=0} {len=$3-$2; sum=sum+len} END{print sum/NR}' data/Homo_sapiens_ucscGenes.subset.bed"
   ]
  }
 ],
 "metadata": {
  "kernelspec": {
   "display_name": "Python 3",
   "language": "python",
   "name": "python3"
  },
  "language_info": {
   "codemirror_mode": {
    "name": "ipython",
    "version": 3
   },
   "file_extension": ".py",
   "mimetype": "text/x-python",
   "name": "python",
   "nbconvert_exporter": "python",
   "pygments_lexer": "ipython3",
   "version": "3.9.1"
  }
 },
 "nbformat": 4,
 "nbformat_minor": 4
}
