{
 "metadata": {
  "language_info": {
   "codemirror_mode": {
    "name": "ipython",
    "version": 3
   },
   "file_extension": ".py",
   "mimetype": "text/x-python",
   "name": "python",
   "nbconvert_exporter": "python",
   "pygments_lexer": "ipython3",
   "version": "3.8.2-final"
  },
  "orig_nbformat": 2,
  "kernelspec": {
   "name": "python3",
   "display_name": "Python 3",
   "language": "python"
  }
 },
 "nbformat": 4,
 "nbformat_minor": 2,
 "cells": [
  {
   "source": [
    "# A Brief Introduction to Pandas\n",
    "### Part 2"
   ],
   "cell_type": "markdown",
   "metadata": {}
  },
  {
   "source": [
    "## 3.1 Selection\n",
    "Using .loc(), .iloc()\n",
    "https://pandas.pydata.org/pandas-docs/stable/reference/api/pandas.DataFrame.loc.html"
   ],
   "cell_type": "markdown",
   "metadata": {}
  },
  {
   "cell_type": "code",
   "execution_count": null,
   "metadata": {},
   "outputs": [],
   "source": [
    "import pandas as pd\n",
    "import matplotlib.pyplot as plt\n",
    "import numpy as np\n",
    "from scipy import stats"
   ]
  },
  {
   "cell_type": "code",
   "execution_count": null,
   "metadata": {},
   "outputs": [],
   "source": [
    "# Read in the complete version of the europe data, using the first column as the index\n",
    "eur_data_final = pd.read_csv('./data/complete/eur_data_final.csv', index_col=0)\n",
    "eur_data_final.head()"
   ]
  },
  {
   "cell_type": "code",
   "execution_count": null,
   "metadata": {},
   "outputs": [],
   "source": [
    "# Data from the eur_data_final df, represented as a python dictionary\n",
    "countries_dict = {\n",
    "    15: {\n",
    "        'country': 'Italy', \n",
    "         'unemp_rate': 11.7, \n",
    "         'gdp': 1689824, \n",
    "         'median_income': 16237, \n",
    "         'total_pop': 59433744\n",
    "        }\n",
    "}"
   ]
  },
  {
   "cell_type": "code",
   "execution_count": null,
   "metadata": {},
   "outputs": [],
   "source": [
    "# With vanilla python, how do we get the word 'Italy' from a dictionary?"
   ]
  },
  {
   "cell_type": "code",
   "execution_count": null,
   "metadata": {},
   "outputs": [],
   "source": [
    "# How do we do this with a dataframe?"
   ]
  },
  {
   "cell_type": "code",
   "execution_count": null,
   "metadata": {},
   "outputs": [],
   "source": [
    "# We can also get multiple columns"
   ]
  },
  {
   "cell_type": "code",
   "execution_count": null,
   "metadata": {},
   "outputs": [],
   "source": [
    "# Or an entire row/entry"
   ]
  },
  {
   "cell_type": "code",
   "execution_count": null,
   "metadata": {},
   "outputs": [],
   "source": [
    "# Or multiple rows and columns"
   ]
  },
  {
   "cell_type": "code",
   "execution_count": null,
   "metadata": {},
   "outputs": [],
   "source": [
    "# We can also use python's index slicing syntax"
   ]
  },
  {
   "cell_type": "code",
   "execution_count": null,
   "metadata": {},
   "outputs": [],
   "source": [
    "# Select by column value (Pandas is smart!)\n",
    "# DF must be indexed by country name"
   ]
  },
  {
   "source": [
    "### Exercise - Use .loc() to create a new dataframe with all countries from Cypress to France (alphabetically) with gdp and total_pop columns."
   ],
   "cell_type": "markdown",
   "metadata": {}
  },
  {
   "cell_type": "code",
   "execution_count": null,
   "metadata": {},
   "outputs": [],
   "source": []
  },
  {
   "source": [
    "### Exercise - What countries have a higher unemployment rate than Slovenia and have a lowercase 't' in their name?"
   ],
   "cell_type": "markdown",
   "metadata": {}
  },
  {
   "cell_type": "code",
   "execution_count": null,
   "metadata": {},
   "outputs": [],
   "source": [
    "# Select slovenia unemployment values\n",
    "\n",
    "# Generate comparison query\n",
    "\n",
    "# Generate 'contains' query\n",
    "\n",
    "# Make selection using queries\n"
   ]
  },
  {
   "cell_type": "code",
   "execution_count": null,
   "metadata": {},
   "outputs": [],
   "source": [
    "# Explore .iloc()\n",
    "# https://stackoverflow.com/questions/31593201/how-are-iloc-and-loc-different\n"
   ]
  },
  {
   "source": [
    "## 4.1 MultiIndexes (hierarchical indexes)\n",
    "Pandas also supports multindexes, which allow users to index by multiple values or groups of values.\n",
    "https://pandas.pydata.org/pandas-docs/stable/reference/api/pandas.MultiIndex.html"
   ],
   "cell_type": "markdown",
   "metadata": {}
  },
  {
   "cell_type": "code",
   "execution_count": null,
   "metadata": {},
   "outputs": [],
   "source": [
    "parent_array = ['bar', 'bar', 'baz', 'baz', 'foo', 'foo', 'qux', 'qux']\n",
    "child_array = ['one', 'two', 'one', 'two', 'one', 'two', 'one', 'two']\n",
    "# Add arrays to one array"
   ]
  },
  {
   "source": [
    "We want a multidimensional array of random numbers. Numpy for the win!"
   ],
   "cell_type": "markdown",
   "metadata": {}
  },
  {
   "cell_type": "code",
   "execution_count": null,
   "metadata": {},
   "outputs": [],
   "source": [
    "# Set the seed for number generation\n",
    "np.random.seed(42)\n",
    "# Create multidimensional array of pseudorandom numbers with shape 8,4"
   ]
  },
  {
   "cell_type": "code",
   "execution_count": null,
   "metadata": {},
   "outputs": [],
   "source": [
    "# Convert md array to dataframe\n",
    "multi_df = pd.DataFrame(md_array)\n",
    "\n",
    "# https://pandas.pydata.org/pandas-docs/stable/reference/api/pandas.RangeIndex.html\n",
    "multi_df.index"
   ]
  },
  {
   "cell_type": "code",
   "execution_count": null,
   "metadata": {},
   "outputs": [],
   "source": [
    "# Add multindex\n",
    "multi_df = pd.DataFrame(md_array, index=arrays)\n",
    "multi_df.index"
   ]
  },
  {
   "cell_type": "code",
   "execution_count": null,
   "metadata": {},
   "outputs": [],
   "source": [
    "# Update column names of multi_df\n",
    "col_names = ['var1', 'var2', 'var3', 'var4']\n",
    "multi_df.columns = col_names"
   ]
  },
  {
   "cell_type": "code",
   "execution_count": null,
   "metadata": {},
   "outputs": [],
   "source": [
    "# Select all columns and rows for 'bar'"
   ]
  },
  {
   "cell_type": "code",
   "execution_count": null,
   "metadata": {},
   "outputs": [],
   "source": [
    "# Select all rows for index foo and column var1\n",
    "# Using loc, fancy indexing\n",
    "\n",
    "# # Using loc, bracket notation\n",
    "\n",
    "# # Using loc, dot notation\n",
    "\n",
    "# # Without loc\n"
   ]
  },
  {
   "source": [
    "## 4.2 Groupby\n",
    "From the documentation: \"A groupby operation involves some combination of splitting the object, applying a function, and combining the results.\"\n",
    "https://pandas.pydata.org/pandas-docs/stable/reference/api/pandas.DataFrame.groupby.html\n",
    "\n",
    "This is tied closely to the split-apply-combine strategy: https://pandas.pydata.org/pandas-docs/stable/user_guide/groupby.html. This was approach outlined by Hadley Wickcham in this paper: https://www.jstatsoft.org/article/view/v040i01.\n"
   ],
   "cell_type": "markdown",
   "metadata": {}
  },
  {
   "cell_type": "code",
   "execution_count": null,
   "metadata": {},
   "outputs": [],
   "source": [
    "# Read in the UN world data\n",
    "un_data = pd.read_csv('./data/complete/un_world_data.csv')"
   ]
  },
  {
   "source": [
    "This data is wide! Let's get rid of some of the columns."
   ],
   "cell_type": "markdown",
   "metadata": {}
  },
  {
   "cell_type": "code",
   "execution_count": null,
   "metadata": {},
   "outputs": [],
   "source": [
    "# This data is wide! Let's get rid of some of the columns.\n",
    "columns_to_keep = [\n",
    "    'country',\n",
    "    'Region',\n",
    "    'Surface area (km2)',\n",
    "    'GDP: Gross domestic product (million current US$)', \n",
    "    'Population in thousands (2017)', \n",
    "    'Population density (per km2, 2017)'\n",
    "    ]"
   ]
  },
  {
   "cell_type": "code",
   "execution_count": null,
   "metadata": {},
   "outputs": [],
   "source": [
    "# Rename the columns \n",
    "columns = {\n",
    "    \"Surface area (km2)\": \"\", \n",
    "    \"GDP: Gross domestic product (million current US$)\": \"\",\n",
    "    \"Population in thousands (2017)\": \"\",\n",
    "    \"Population density (per km2, 2017)\": ''\n",
    "    }"
   ]
  },
  {
   "cell_type": "code",
   "execution_count": null,
   "metadata": {},
   "outputs": [],
   "source": [
    "# Group the data by region\n",
    "un_region = un_data.groupby('Region', as_index=False)\n",
    "# The groupby object is iterable"
   ]
  },
  {
   "source": [
    "Note: generally speaking, you want to avoid iteration with Pandas. It's best to leverage the power of vectorized operations. If you find yourself looping through a dataframe or a series, you might be doing unecessary work. https://towardsdatascience.com/you-dont-always-have-to-loop-through-rows-in-pandas-22a970b347ac"
   ],
   "cell_type": "markdown",
   "metadata": {}
  },
  {
   "cell_type": "code",
   "execution_count": null,
   "metadata": {},
   "outputs": [],
   "source": [
    "# Select Caribbean group\n",
    "carib = un_region.get_group('Caribbean')\n",
    "\n",
    "# Get the head and tail"
   ]
  },
  {
   "source": [
    "### Exercise - Get the average surface area of all the countries in CentralAmerica"
   ],
   "cell_type": "markdown",
   "metadata": {}
  },
  {
   "cell_type": "code",
   "execution_count": null,
   "metadata": {},
   "outputs": [],
   "source": []
  },
  {
   "source": [
    "We can do vectorized operations on each group object."
   ],
   "cell_type": "markdown",
   "metadata": {}
  },
  {
   "cell_type": "code",
   "execution_count": null,
   "metadata": {},
   "outputs": [],
   "source": [
    "# .min(), .max(), .mean(), .count()"
   ]
  },
  {
   "source": [
    "Let's take a look at aggregating the data using the .agg() method: https://pandas.pydata.org/pandas-docs/stable/reference/api/pandas.DataFrame.agg.html"
   ],
   "cell_type": "markdown",
   "metadata": {}
  },
  {
   "cell_type": "code",
   "execution_count": null,
   "metadata": {},
   "outputs": [],
   "source": [
    "\n",
    "# Get the mean of each column for each region"
   ]
  },
  {
   "cell_type": "code",
   "execution_count": null,
   "metadata": {},
   "outputs": [],
   "source": [
    "# Get mean, median, and sum"
   ]
  },
  {
   "source": [
    "We can also pass in other functions or define our own. These are referred to as higher-order functions, i.e. functions that take in other functions as arguments. \n",
    "\n"
   ],
   "cell_type": "markdown",
   "metadata": {}
  },
  {
   "cell_type": "code",
   "execution_count": null,
   "metadata": {},
   "outputs": [],
   "source": [
    "# Example of higher-order function\n",
    "def do_calculation(val, func):\n",
    "    return func(val)"
   ]
  },
  {
   "cell_type": "code",
   "execution_count": null,
   "metadata": {},
   "outputs": [],
   "source": [
    "# Example of filtering"
   ]
  },
  {
   "source": [
    "Let's use the statistics module from scipy to calculate some new values: https://docs.scipy.org/doc/scipy/reference/stats.html"
   ],
   "cell_type": "markdown",
   "metadata": {}
  },
  {
   "cell_type": "code",
   "execution_count": null,
   "metadata": {},
   "outputs": [],
   "source": [
    "# stats.tsem(), stats.tstd(), stats.skew()"
   ]
  },
  {
   "cell_type": "code",
   "execution_count": null,
   "metadata": {},
   "outputs": [],
   "source": [
    "# Use a lambda function\n",
    "# https://www.geeksforgeeks.org/python-lambda-anonymous-functions-filter-map-reduce/"
   ]
  },
  {
   "cell_type": "code",
   "execution_count": null,
   "metadata": {},
   "outputs": [],
   "source": [
    "# Get the max of each column in each region"
   ]
  },
  {
   "cell_type": "code",
   "execution_count": null,
   "metadata": {},
   "outputs": [],
   "source": [
    "# Select a single column"
   ]
  },
  {
   "cell_type": "code",
   "execution_count": null,
   "metadata": {},
   "outputs": [],
   "source": [
    "# Get sum and mean of surface area, mean of population for each region"
   ]
  },
  {
   "cell_type": "code",
   "execution_count": null,
   "metadata": {},
   "outputs": [],
   "source": [
    "# Define custom column names"
   ]
  },
  {
   "cell_type": "code",
   "execution_count": null,
   "metadata": {},
   "outputs": [],
   "source": [
    "# .filter()\n",
    "# https://pandas.pydata.org/pandas-docs/stable/reference/api/pandas.core.groupby.DataFrameGroupBy.filter.html\n",
    "# https://pandas.pydata.org/pandas-docs/stable/reference/groupby.html"
   ]
  },
  {
   "cell_type": "code",
   "execution_count": null,
   "metadata": {},
   "outputs": [],
   "source": [
    "# Filter by population"
   ]
  },
  {
   "source": [
    "### Exercise - Get standard deviation of gdp for each region using np.std for all regions with a population density over 100"
   ],
   "cell_type": "markdown",
   "metadata": {}
  },
  {
   "cell_type": "code",
   "execution_count": null,
   "metadata": {},
   "outputs": [],
   "source": []
  },
  {
   "source": [
    "### Exercise - Generate corr plot for the UN data"
   ],
   "cell_type": "markdown",
   "metadata": {}
  },
  {
   "cell_type": "code",
   "execution_count": null,
   "metadata": {},
   "outputs": [],
   "source": [
    "# Select columns\n",
    "\n",
    "# Make subplot and figure\n",
    "\n",
    "# Generate correlation matrix\n",
    "\n",
    "# Generate matplotlib plot\n",
    "\n",
    "# Add colorbar to figure\n",
    "\n",
    "# Set tick labels"
   ]
  },
  {
   "cell_type": "code",
   "execution_count": null,
   "metadata": {},
   "outputs": [],
   "source": []
  }
 ]
}