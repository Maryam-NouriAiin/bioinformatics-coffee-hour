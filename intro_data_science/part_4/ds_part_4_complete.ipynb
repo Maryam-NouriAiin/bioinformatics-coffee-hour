{
 "metadata": {
  "language_info": {
   "codemirror_mode": {
    "name": "ipython",
    "version": 3
   },
   "file_extension": ".py",
   "mimetype": "text/x-python",
   "name": "python",
   "nbconvert_exporter": "python",
   "pygments_lexer": "ipython3",
   "version": "3.8.2-final"
  },
  "orig_nbformat": 2,
  "kernelspec": {
   "name": "python3",
   "display_name": "Python 3",
   "language": "python"
  }
 },
 "nbformat": 4,
 "nbformat_minor": 2,
 "cells": [
  {
   "source": [
    "# A Brief Introduction to Pandas\n",
    "### Part 2"
   ],
   "cell_type": "markdown",
   "metadata": {}
  },
  {
   "source": [
    "## 3.1 Selection\n",
    "Using .loc(), .iloc()\n",
    "https://pandas.pydata.org/pandas-docs/stable/reference/api/pandas.DataFrame.loc.html"
   ],
   "cell_type": "markdown",
   "metadata": {}
  },
  {
   "cell_type": "code",
   "execution_count": 3,
   "metadata": {},
   "outputs": [],
   "source": [
    "import pandas as pd\n",
    "import matplotlib.pyplot as plt\n",
    "import numpy as np\n",
    "from scipy import stats"
   ]
  },
  {
   "cell_type": "code",
   "execution_count": 201,
   "metadata": {},
   "outputs": [
    {
     "output_type": "execute_result",
     "data": {
      "text/plain": [
       "    country  unemp_rate       gdp  median_income  total_pop\n",
       "0   Austria         6.0  356237.6          23071    8401940\n",
       "1   Belgium         7.8  424660.3          21335   11000638\n",
       "2  Bulgaria         7.6   48128.6           6742    7364570\n",
       "3   Croatia        13.1   46639.5           8985    4284889\n",
       "4    Cyprus        13.0   18490.2          16173     840407"
      ],
      "text/html": "<div>\n<style scoped>\n    .dataframe tbody tr th:only-of-type {\n        vertical-align: middle;\n    }\n\n    .dataframe tbody tr th {\n        vertical-align: top;\n    }\n\n    .dataframe thead th {\n        text-align: right;\n    }\n</style>\n<table border=\"1\" class=\"dataframe\">\n  <thead>\n    <tr style=\"text-align: right;\">\n      <th></th>\n      <th>country</th>\n      <th>unemp_rate</th>\n      <th>gdp</th>\n      <th>median_income</th>\n      <th>total_pop</th>\n    </tr>\n  </thead>\n  <tbody>\n    <tr>\n      <th>0</th>\n      <td>Austria</td>\n      <td>6.0</td>\n      <td>356237.6</td>\n      <td>23071</td>\n      <td>8401940</td>\n    </tr>\n    <tr>\n      <th>1</th>\n      <td>Belgium</td>\n      <td>7.8</td>\n      <td>424660.3</td>\n      <td>21335</td>\n      <td>11000638</td>\n    </tr>\n    <tr>\n      <th>2</th>\n      <td>Bulgaria</td>\n      <td>7.6</td>\n      <td>48128.6</td>\n      <td>6742</td>\n      <td>7364570</td>\n    </tr>\n    <tr>\n      <th>3</th>\n      <td>Croatia</td>\n      <td>13.1</td>\n      <td>46639.5</td>\n      <td>8985</td>\n      <td>4284889</td>\n    </tr>\n    <tr>\n      <th>4</th>\n      <td>Cyprus</td>\n      <td>13.0</td>\n      <td>18490.2</td>\n      <td>16173</td>\n      <td>840407</td>\n    </tr>\n  </tbody>\n</table>\n</div>"
     },
     "metadata": {},
     "execution_count": 201
    }
   ],
   "source": [
    "# Read in the complete version of the europe data, using the first column as the index\n",
    "eur_data_final = pd.read_csv('./data/complete/eur_data_final.csv', index_col=0)\n",
    "eur_data_final.head()"
   ]
  },
  {
   "cell_type": "code",
   "execution_count": 132,
   "metadata": {},
   "outputs": [],
   "source": [
    "# Data from the eur_data_final df, represented as a python dictionary\n",
    "countries_dict = {\n",
    "    15: {\n",
    "        'country': 'Italy', \n",
    "         'unemp_rate': 11.7, \n",
    "         'gdp': 1689824, \n",
    "         'median_income': 16237, \n",
    "         'total_pop': 59433744\n",
    "        }\n",
    "}"
   ]
  },
  {
   "cell_type": "code",
   "execution_count": 133,
   "metadata": {},
   "outputs": [
    {
     "output_type": "execute_result",
     "data": {
      "text/plain": [
       "'Italy'"
      ]
     },
     "metadata": {},
     "execution_count": 133
    }
   ],
   "source": [
    "# With vanilla python, how do we get the word 'Italy' from a dictionary?\n",
    "countries_dict[15]['country']"
   ]
  },
  {
   "cell_type": "code",
   "execution_count": 134,
   "metadata": {},
   "outputs": [
    {
     "output_type": "execute_result",
     "data": {
      "text/plain": [
       "'Italy'"
      ]
     },
     "metadata": {},
     "execution_count": 134
    }
   ],
   "source": [
    "# How do we do this with a dataframe?\n",
    "eur_data_final.loc[15, 'country']"
   ]
  },
  {
   "cell_type": "code",
   "execution_count": 136,
   "metadata": {},
   "outputs": [
    {
     "output_type": "execute_result",
     "data": {
      "text/plain": [
       "country              Italy\n",
       "unemp_rate            11.7\n",
       "gdp              1689824.0\n",
       "median_income        16237\n",
       "Name: 15, dtype: object"
      ]
     },
     "metadata": {},
     "execution_count": 136
    }
   ],
   "source": [
    "# We can also get multiple columns\n",
    "eur_data_final.loc[15, ['country', 'gdp']]"
   ]
  },
  {
   "cell_type": "code",
   "execution_count": 9,
   "metadata": {},
   "outputs": [
    {
     "output_type": "execute_result",
     "data": {
      "text/plain": [
       "country           Hungary\n",
       "unemp_rate            5.1\n",
       "gdp              113903.8\n",
       "median_income        8267\n",
       "total_pop         9937628\n",
       "Name: 12, dtype: object"
      ]
     },
     "metadata": {},
     "execution_count": 9
    }
   ],
   "source": [
    "# Or an entire row/entry\n",
    "eur_data_final.loc[12]"
   ]
  },
  {
   "cell_type": "code",
   "execution_count": 10,
   "metadata": {},
   "outputs": [
    {
     "output_type": "execute_result",
     "data": {
      "text/plain": [
       "    country        gdp\n",
       "9    France  2228568.0\n",
       "10  Germany  3159750.0"
      ],
      "text/html": "<div>\n<style scoped>\n    .dataframe tbody tr th:only-of-type {\n        vertical-align: middle;\n    }\n\n    .dataframe tbody tr th {\n        vertical-align: top;\n    }\n\n    .dataframe thead th {\n        text-align: right;\n    }\n</style>\n<table border=\"1\" class=\"dataframe\">\n  <thead>\n    <tr style=\"text-align: right;\">\n      <th></th>\n      <th>country</th>\n      <th>gdp</th>\n    </tr>\n  </thead>\n  <tbody>\n    <tr>\n      <th>9</th>\n      <td>France</td>\n      <td>2228568.0</td>\n    </tr>\n    <tr>\n      <th>10</th>\n      <td>Germany</td>\n      <td>3159750.0</td>\n    </tr>\n  </tbody>\n</table>\n</div>"
     },
     "metadata": {},
     "execution_count": 10
    }
   ],
   "source": [
    "# Or multiple rows and columns\n",
    "eur_data_final.loc[[9,10], ['country','gdp']]"
   ]
  },
  {
   "cell_type": "code",
   "execution_count": 137,
   "metadata": {},
   "outputs": [
    {
     "output_type": "execute_result",
     "data": {
      "text/plain": [
       "    country  unemp_rate        gdp  median_income\n",
       "9    France        10.1  2228568.0          20621\n",
       "10  Germany         4.1  3159750.0          21152\n",
       "11   Greece        23.6   176487.9           9048\n",
       "12  Hungary         5.1   113903.8           8267\n",
       "13  Iceland         3.0    18646.1          22193\n",
       "14  Ireland         8.4   273238.2          18286"
      ],
      "text/html": "<div>\n<style scoped>\n    .dataframe tbody tr th:only-of-type {\n        vertical-align: middle;\n    }\n\n    .dataframe tbody tr th {\n        vertical-align: top;\n    }\n\n    .dataframe thead th {\n        text-align: right;\n    }\n</style>\n<table border=\"1\" class=\"dataframe\">\n  <thead>\n    <tr style=\"text-align: right;\">\n      <th></th>\n      <th>country</th>\n      <th>unemp_rate</th>\n      <th>gdp</th>\n      <th>median_income</th>\n    </tr>\n  </thead>\n  <tbody>\n    <tr>\n      <th>9</th>\n      <td>France</td>\n      <td>10.1</td>\n      <td>2228568.0</td>\n      <td>20621</td>\n    </tr>\n    <tr>\n      <th>10</th>\n      <td>Germany</td>\n      <td>4.1</td>\n      <td>3159750.0</td>\n      <td>21152</td>\n    </tr>\n    <tr>\n      <th>11</th>\n      <td>Greece</td>\n      <td>23.6</td>\n      <td>176487.9</td>\n      <td>9048</td>\n    </tr>\n    <tr>\n      <th>12</th>\n      <td>Hungary</td>\n      <td>5.1</td>\n      <td>113903.8</td>\n      <td>8267</td>\n    </tr>\n    <tr>\n      <th>13</th>\n      <td>Iceland</td>\n      <td>3.0</td>\n      <td>18646.1</td>\n      <td>22193</td>\n    </tr>\n    <tr>\n      <th>14</th>\n      <td>Ireland</td>\n      <td>8.4</td>\n      <td>273238.2</td>\n      <td>18286</td>\n    </tr>\n  </tbody>\n</table>\n</div>"
     },
     "metadata": {},
     "execution_count": 137
    }
   ],
   "source": [
    "# We can also use python's index slicing syntax\n",
    "eur_data_final.loc[9:14, 'country':'median_income']"
   ]
  },
  {
   "cell_type": "code",
   "execution_count": 11,
   "metadata": {},
   "outputs": [
    {
     "output_type": "execute_result",
     "data": {
      "text/plain": [
       "unemp_rate             8.0\n",
       "gdp                40357.2\n",
       "median_income      15250.0\n",
       "total_pop        2050189.0\n",
       "Name: Slovenia, dtype: float64"
      ]
     },
     "metadata": {},
     "execution_count": 11
    }
   ],
   "source": [
    "# Select by column value (Pandas is smart!)\n",
    "# DF must be indexed by country name\n",
    "eur_data_country_index = eur_data_final.sort_values('country').set_index('country')\n",
    "eur_data_country_index.loc['Slovenia']"
   ]
  },
  {
   "source": [
    "### Exercise - Use .loc() to create a new dataframe with all countries from Cypress to France (alphabetically) with gdp and total_pop columns."
   ],
   "cell_type": "markdown",
   "metadata": {}
  },
  {
   "cell_type": "code",
   "execution_count": 144,
   "metadata": {},
   "outputs": [
    {
     "output_type": "execute_result",
     "data": {
      "text/plain": [
       "               gdp  total_pop\n",
       "country                      \n",
       "Cyprus     18490.2     840407\n",
       "Czechia   176370.1   10436560\n",
       "Denmark   282089.9    5560628\n",
       "Estonia    21682.6    1294455\n",
       "Finland   216073.0    5375276\n",
       "France   2228568.0   64933400"
      ],
      "text/html": "<div>\n<style scoped>\n    .dataframe tbody tr th:only-of-type {\n        vertical-align: middle;\n    }\n\n    .dataframe tbody tr th {\n        vertical-align: top;\n    }\n\n    .dataframe thead th {\n        text-align: right;\n    }\n</style>\n<table border=\"1\" class=\"dataframe\">\n  <thead>\n    <tr style=\"text-align: right;\">\n      <th></th>\n      <th>gdp</th>\n      <th>total_pop</th>\n    </tr>\n    <tr>\n      <th>country</th>\n      <th></th>\n      <th></th>\n    </tr>\n  </thead>\n  <tbody>\n    <tr>\n      <th>Cyprus</th>\n      <td>18490.2</td>\n      <td>840407</td>\n    </tr>\n    <tr>\n      <th>Czechia</th>\n      <td>176370.1</td>\n      <td>10436560</td>\n    </tr>\n    <tr>\n      <th>Denmark</th>\n      <td>282089.9</td>\n      <td>5560628</td>\n    </tr>\n    <tr>\n      <th>Estonia</th>\n      <td>21682.6</td>\n      <td>1294455</td>\n    </tr>\n    <tr>\n      <th>Finland</th>\n      <td>216073.0</td>\n      <td>5375276</td>\n    </tr>\n    <tr>\n      <th>France</th>\n      <td>2228568.0</td>\n      <td>64933400</td>\n    </tr>\n  </tbody>\n</table>\n</div>"
     },
     "metadata": {},
     "execution_count": 144
    }
   ],
   "source": [
    "eur_data_country_index.loc['Cypress': 'France', ['gdp', 'total_pop']]"
   ]
  },
  {
   "source": [
    "### Exercise - What countries have a higher unemployment rate than Slovenia and have a lowercase 't' in their name?"
   ],
   "cell_type": "markdown",
   "metadata": {}
  },
  {
   "cell_type": "code",
   "execution_count": 20,
   "metadata": {},
   "outputs": [
    {
     "output_type": "execute_result",
     "data": {
      "text/plain": [
       "     country  unemp_rate        gdp  median_income  total_pop\n",
       "3    Croatia        13.1    46639.5           8985    4284889\n",
       "15     Italy        11.7  1689824.0          16237   59433744\n",
       "16    Latvia         9.6    25037.7           9257    2070371\n",
       "23  Portugal        11.2   186480.5          10805   10562178"
      ],
      "text/html": "<div>\n<style scoped>\n    .dataframe tbody tr th:only-of-type {\n        vertical-align: middle;\n    }\n\n    .dataframe tbody tr th {\n        vertical-align: top;\n    }\n\n    .dataframe thead th {\n        text-align: right;\n    }\n</style>\n<table border=\"1\" class=\"dataframe\">\n  <thead>\n    <tr style=\"text-align: right;\">\n      <th></th>\n      <th>country</th>\n      <th>unemp_rate</th>\n      <th>gdp</th>\n      <th>median_income</th>\n      <th>total_pop</th>\n    </tr>\n  </thead>\n  <tbody>\n    <tr>\n      <th>3</th>\n      <td>Croatia</td>\n      <td>13.1</td>\n      <td>46639.5</td>\n      <td>8985</td>\n      <td>4284889</td>\n    </tr>\n    <tr>\n      <th>15</th>\n      <td>Italy</td>\n      <td>11.7</td>\n      <td>1689824.0</td>\n      <td>16237</td>\n      <td>59433744</td>\n    </tr>\n    <tr>\n      <th>16</th>\n      <td>Latvia</td>\n      <td>9.6</td>\n      <td>25037.7</td>\n      <td>9257</td>\n      <td>2070371</td>\n    </tr>\n    <tr>\n      <th>23</th>\n      <td>Portugal</td>\n      <td>11.2</td>\n      <td>186480.5</td>\n      <td>10805</td>\n      <td>10562178</td>\n    </tr>\n  </tbody>\n</table>\n</div>"
     },
     "metadata": {},
     "execution_count": 20
    }
   ],
   "source": [
    "# Select slovenia unemployment values\n",
    "slovenia_unemployment = eur_data_country_index.loc['Slovenia', 'unemp_rate']\n",
    "# Generate comparison query\n",
    "gt_slov = eur_data_final.unemp_rate > slovenia_unemployment\n",
    "# Generate 'contains' query\n",
    "t_names = eur_data_final.country.str.contains('t')\n",
    "# Make selection using queries\n",
    "eur_data_final[gt_slov & t_names]"
   ]
  },
  {
   "cell_type": "code",
   "execution_count": 14,
   "metadata": {},
   "outputs": [
    {
     "output_type": "execute_result",
     "data": {
      "text/plain": [
       "country           Austria\n",
       "unemp_rate            6.0\n",
       "gdp              356237.6\n",
       "median_income       23071\n",
       "total_pop         8401940\n",
       "Name: 0, dtype: object"
      ]
     },
     "metadata": {},
     "execution_count": 14
    }
   ],
   "source": [
    "# Explore .iloc()\n",
    "# https://stackoverflow.com/questions/31593201/how-are-iloc-and-loc-different\n",
    "eur_data_final.iloc[0]"
   ]
  },
  {
   "source": [
    "## 4.1 MultiIndexes (hierarchical indexes)\n",
    "Pandas also supports multindexes, which allow users to index by multiple values or groups of values.\n",
    "https://pandas.pydata.org/pandas-docs/stable/reference/api/pandas.MultiIndex.html"
   ],
   "cell_type": "markdown",
   "metadata": {}
  },
  {
   "cell_type": "code",
   "execution_count": 5,
   "metadata": {},
   "outputs": [],
   "source": [
    "parent_array = ['bar', 'bar', 'baz', 'baz', 'foo', 'foo', 'qux', 'qux']\n",
    "child_array = ['one', 'two', 'one', 'two', 'one', 'two', 'one', 'two']\n",
    "arrays = [parent_array, child_array]"
   ]
  },
  {
   "source": [
    "We want a multidimensional array of random numbers. Numpy for the win!"
   ],
   "cell_type": "markdown",
   "metadata": {}
  },
  {
   "cell_type": "code",
   "execution_count": 7,
   "metadata": {},
   "outputs": [
    {
     "output_type": "execute_result",
     "data": {
      "text/plain": [
       "array([[6, 3, 7, 4],\n",
       "       [6, 9, 2, 6],\n",
       "       [7, 4, 3, 7],\n",
       "       [7, 2, 5, 4],\n",
       "       [1, 7, 5, 1],\n",
       "       [4, 0, 9, 5],\n",
       "       [8, 0, 9, 2],\n",
       "       [6, 3, 8, 2]])"
      ]
     },
     "metadata": {},
     "execution_count": 7
    }
   ],
   "source": [
    "# Set the seed for number generation\n",
    "np.random.seed(42)\n",
    "# Create multidimensional array with shape 8,4\n",
    "md_array = np.random.randint(10,size=(8,4))\n",
    "md_array"
   ]
  },
  {
   "cell_type": "code",
   "execution_count": 10,
   "metadata": {},
   "outputs": [
    {
     "output_type": "execute_result",
     "data": {
      "text/plain": [
       "RangeIndex(start=0, stop=8, step=1)"
      ]
     },
     "metadata": {},
     "execution_count": 10
    }
   ],
   "source": [
    "# Convert md array to dataframe\n",
    "multi_df = pd.DataFrame(md_array)\n",
    "\n",
    "# https://pandas.pydata.org/pandas-docs/stable/reference/api/pandas.RangeIndex.html\n",
    "multi_df.index"
   ]
  },
  {
   "cell_type": "code",
   "execution_count": 12,
   "metadata": {},
   "outputs": [
    {
     "output_type": "execute_result",
     "data": {
      "text/plain": [
       "MultiIndex([('bar', 'one'),\n",
       "            ('bar', 'two'),\n",
       "            ('baz', 'one'),\n",
       "            ('baz', 'two'),\n",
       "            ('foo', 'one'),\n",
       "            ('foo', 'two'),\n",
       "            ('qux', 'one'),\n",
       "            ('qux', 'two')],\n",
       "           )"
      ]
     },
     "metadata": {},
     "execution_count": 12
    }
   ],
   "source": [
    "# Add multindex\n",
    "multi_df = pd.DataFrame(md_array, index=arrays)\n",
    "multi_df.index"
   ]
  },
  {
   "cell_type": "code",
   "execution_count": 14,
   "metadata": {},
   "outputs": [],
   "source": [
    "# Update column names of multi_df\n",
    "multi_df.columns = ['var1', 'var2', 'var3', 'var4']"
   ]
  },
  {
   "cell_type": "code",
   "execution_count": 18,
   "metadata": {},
   "outputs": [
    {
     "output_type": "execute_result",
     "data": {
      "text/plain": [
       "     var1  var2  var3  var4\n",
       "one     6     3     7     4\n",
       "two     6     9     2     6"
      ],
      "text/html": "<div>\n<style scoped>\n    .dataframe tbody tr th:only-of-type {\n        vertical-align: middle;\n    }\n\n    .dataframe tbody tr th {\n        vertical-align: top;\n    }\n\n    .dataframe thead th {\n        text-align: right;\n    }\n</style>\n<table border=\"1\" class=\"dataframe\">\n  <thead>\n    <tr style=\"text-align: right;\">\n      <th></th>\n      <th>var1</th>\n      <th>var2</th>\n      <th>var3</th>\n      <th>var4</th>\n    </tr>\n  </thead>\n  <tbody>\n    <tr>\n      <th>one</th>\n      <td>6</td>\n      <td>3</td>\n      <td>7</td>\n      <td>4</td>\n    </tr>\n    <tr>\n      <th>two</th>\n      <td>6</td>\n      <td>9</td>\n      <td>2</td>\n      <td>6</td>\n    </tr>\n  </tbody>\n</table>\n</div>"
     },
     "metadata": {},
     "execution_count": 18
    }
   ],
   "source": [
    "# Select all columns and rows for 'bar'\n",
    "multi_df.loc['bar']"
   ]
  },
  {
   "cell_type": "code",
   "execution_count": 34,
   "metadata": {},
   "outputs": [
    {
     "output_type": "execute_result",
     "data": {
      "text/plain": [
       "one    1\n",
       "two    4\n",
       "Name: var1, dtype: int64"
      ]
     },
     "metadata": {},
     "execution_count": 34
    }
   ],
   "source": [
    "# Select all rows for index foo and column var1\n",
    "# Using loc, fancy indexing\n",
    "multi_df.loc['foo', 'var1']\n",
    "# # Using loc, bracket notation\n",
    "# multi_df.loc['foo']['var1']\n",
    "# # Using loc, dot notation\n",
    "# multi_df.loc['foo'].var1\n",
    "# # Without loc\n",
    "# multi_df.var1.foo.one"
   ]
  },
  {
   "source": [
    "## 4.2 Groupby\n",
    "From the documentation: \"A groupby operation involves some combination of splitting the object, applying a function, and combining the results.\"\n",
    "https://pandas.pydata.org/pandas-docs/stable/reference/api/pandas.DataFrame.groupby.html\n",
    "\n",
    "This is tied closely to the split-apply-combine strategy: https://pandas.pydata.org/pandas-docs/stable/user_guide/groupby.html. This was approach outlined by Hadley Wickcham in this paper: https://www.jstatsoft.org/article/view/v040i01.\n"
   ],
   "cell_type": "markdown",
   "metadata": {}
  },
  {
   "cell_type": "code",
   "execution_count": 204,
   "metadata": {},
   "outputs": [],
   "source": [
    "# Read in the UN world data\n",
    "un_data = pd.read_csv('./data/complete/un_world_data.csv')"
   ]
  },
  {
   "source": [
    "This data is wide! Let's get rid of some of the columns."
   ],
   "cell_type": "markdown",
   "metadata": {}
  },
  {
   "cell_type": "code",
   "execution_count": 38,
   "metadata": {},
   "outputs": [],
   "source": [
    "# This data is wide! Let's get rid of some of the columns.\n",
    "columns_to_keep = [\n",
    "    'country',\n",
    "    'Region',\n",
    "    'Surface area (km2)',\n",
    "    'GDP: Gross domestic product (million current US$)', \n",
    "    'Population in thousands (2017)', \n",
    "    'Population density (per km2, 2017)'\n",
    "    ]\n",
    "un_data = un_data[columns_to_keep]"
   ]
  },
  {
   "cell_type": "code",
   "execution_count": 43,
   "metadata": {},
   "outputs": [],
   "source": [
    "# Rename the columns \n",
    "columns = {\n",
    "    \"Surface area (km2)\": \"surface_area\", \n",
    "    \"GDP: Gross domestic product (million current US$)\": \"gdp\",\n",
    "    \"Population in thousands (2017)\": 'population',\n",
    "    \"Population density (per km2, 2017)\": 'population_density'\n",
    "    }\n",
    "\n",
    "un_data = un_data.rename(columns=columns)"
   ]
  },
  {
   "cell_type": "code",
   "execution_count": 202,
   "metadata": {},
   "outputs": [],
   "source": [
    "# Group the data by region\n",
    "un_region = un_data.groupby('Region', as_index=False)\n",
    "# The groupby object is iterable\n",
    "for region, region_df in un_region:\n",
    "    print(region)\n",
    "    print(region_df)"
   ]
  },
  {
   "source": [
    "Note: generally speaking, you want to avoid iteration with Pandas. It's best to leverage the power of vectorized operations. If you find yourself looping through a dataframe or a series, you might be doing unecessary work. https://towardsdatascience.com/you-dont-always-have-to-loop-through-rows-in-pandas-22a970b347ac"
   ],
   "cell_type": "markdown",
   "metadata": {}
  },
  {
   "cell_type": "code",
   "execution_count": 203,
   "metadata": {},
   "outputs": [
    {
     "output_type": "execute_result",
     "data": {
      "text/plain": [
       "                             country     Region  surface_area     gdp  \\\n",
       "19                Dominican Republic  Caribbean         48671   67103   \n",
       "27                             Haiti  Caribbean         27750    8501   \n",
       "59                       Puerto Rico  Caribbean          8868  102906   \n",
       "61  Saint Vincent and the Grenadines  Caribbean           389     738   \n",
       "82                    Virgin Islands  Caribbean           347     -99   \n",
       "\n",
       "    population  population_density  \n",
       "19       10767               222.8  \n",
       "27       10981               398.4  \n",
       "59        3663               413.0  \n",
       "61         110               281.8  \n",
       "82         105               299.7  "
      ],
      "text/html": "<div>\n<style scoped>\n    .dataframe tbody tr th:only-of-type {\n        vertical-align: middle;\n    }\n\n    .dataframe tbody tr th {\n        vertical-align: top;\n    }\n\n    .dataframe thead th {\n        text-align: right;\n    }\n</style>\n<table border=\"1\" class=\"dataframe\">\n  <thead>\n    <tr style=\"text-align: right;\">\n      <th></th>\n      <th>country</th>\n      <th>Region</th>\n      <th>surface_area</th>\n      <th>gdp</th>\n      <th>population</th>\n      <th>population_density</th>\n    </tr>\n  </thead>\n  <tbody>\n    <tr>\n      <th>19</th>\n      <td>Dominican Republic</td>\n      <td>Caribbean</td>\n      <td>48671</td>\n      <td>67103</td>\n      <td>10767</td>\n      <td>222.8</td>\n    </tr>\n    <tr>\n      <th>27</th>\n      <td>Haiti</td>\n      <td>Caribbean</td>\n      <td>27750</td>\n      <td>8501</td>\n      <td>10981</td>\n      <td>398.4</td>\n    </tr>\n    <tr>\n      <th>59</th>\n      <td>Puerto Rico</td>\n      <td>Caribbean</td>\n      <td>8868</td>\n      <td>102906</td>\n      <td>3663</td>\n      <td>413.0</td>\n    </tr>\n    <tr>\n      <th>61</th>\n      <td>Saint Vincent and the Grenadines</td>\n      <td>Caribbean</td>\n      <td>389</td>\n      <td>738</td>\n      <td>110</td>\n      <td>281.8</td>\n    </tr>\n    <tr>\n      <th>82</th>\n      <td>Virgin Islands</td>\n      <td>Caribbean</td>\n      <td>347</td>\n      <td>-99</td>\n      <td>105</td>\n      <td>299.7</td>\n    </tr>\n  </tbody>\n</table>\n</div>"
     },
     "metadata": {},
     "execution_count": 203
    }
   ],
   "source": [
    "# Select Caribbean group\n",
    "carib = un_region.get_group('Caribbean')\n",
    "\n",
    "# Get the head and tail\n",
    "carib.head()\n",
    "carib.tail()"
   ]
  },
  {
   "source": [
    "### Exercise - Get the average surface area of all the countries in CentralAmerica"
   ],
   "cell_type": "markdown",
   "metadata": {}
  },
  {
   "cell_type": "code",
   "execution_count": 46,
   "metadata": {},
   "outputs": [
    {
     "output_type": "execute_result",
     "data": {
      "text/plain": [
       "310819.5"
      ]
     },
     "metadata": {},
     "execution_count": 46
    }
   ],
   "source": [
    "central_america = un_region.get_group('CentralAmerica')\n",
    "central_america['surface_area'].mean()"
   ]
  },
  {
   "source": [
    "We can do vectorized operations on each group object."
   ],
   "cell_type": "markdown",
   "metadata": {}
  },
  {
   "cell_type": "code",
   "execution_count": 76,
   "metadata": {},
   "outputs": [
    {
     "output_type": "execute_result",
     "data": {
      "text/plain": [
       "               Region  surface_area           gdp     population  \\\n",
       "0           Caribbean  1.720500e+04  3.582980e+04    5125.200000   \n",
       "1      CentralAmerica  3.108195e+05  1.712796e+05   22164.750000   \n",
       "2         CentralAsia  1.712745e+05  7.212500e+03    7483.000000   \n",
       "3       EasternAfrica  4.816671e+05  1.883158e+04   25645.750000   \n",
       "4         EasternAsia  5.582058e+06  5.585108e+06  706296.500000   \n",
       "5       EasternEurope  3.186730e+05  4.854500e+04   24137.000000   \n",
       "6           Melanesia  2.054250e+04  9.060000e+02     443.500000   \n",
       "7          Micronesia  5.490000e+02 -9.900000e+01     164.000000   \n",
       "8        MiddleAfrica  1.054169e+06  2.482600e+04   36885.000000   \n",
       "9      NorthernAfrica  1.002000e+06  3.159170e+05   97553.000000   \n",
       "10    NorthernAmerica  9.833517e+06  1.803665e+07  324460.000000   \n",
       "11          Polynesia  2.842000e+03  7.740000e+02     196.000000   \n",
       "12  South-easternAsia  5.205436e+05  2.298626e+05   76377.250000   \n",
       "13       SouthAmerica  1.703150e+06  3.327079e+05   42953.250000   \n",
       "14     SouthernAfrica  6.918360e+05  1.093567e+05   20494.666667   \n",
       "15       SouthernAsia  9.843594e+05  4.851398e+05  320367.800000   \n",
       "16     SouthernEurope  2.874800e+04  1.154100e+04    2930.000000   \n",
       "17      WesternAfrica  4.164142e+05  5.688491e+04   30298.545455   \n",
       "18        WesternAsia  2.060487e+05  1.389109e+05   19296.700000   \n",
       "\n",
       "    population_density  \n",
       "0           323.140000  \n",
       "1           104.262500  \n",
       "2            47.600000  \n",
       "3           139.458333  \n",
       "4            76.050000  \n",
       "5            99.800000  \n",
       "6            22.250000  \n",
       "7           304.100000  \n",
       "8            34.066667  \n",
       "9            98.000000  \n",
       "10           35.500000  \n",
       "11           69.400000  \n",
       "12          153.762500  \n",
       "13           27.050000  \n",
       "14           41.166667  \n",
       "15          197.200000  \n",
       "16          106.900000  \n",
       "17           89.181818  \n",
       "18          243.040000  "
      ],
      "text/html": "<div>\n<style scoped>\n    .dataframe tbody tr th:only-of-type {\n        vertical-align: middle;\n    }\n\n    .dataframe tbody tr th {\n        vertical-align: top;\n    }\n\n    .dataframe thead th {\n        text-align: right;\n    }\n</style>\n<table border=\"1\" class=\"dataframe\">\n  <thead>\n    <tr style=\"text-align: right;\">\n      <th></th>\n      <th>Region</th>\n      <th>surface_area</th>\n      <th>gdp</th>\n      <th>population</th>\n      <th>population_density</th>\n    </tr>\n  </thead>\n  <tbody>\n    <tr>\n      <th>0</th>\n      <td>Caribbean</td>\n      <td>1.720500e+04</td>\n      <td>3.582980e+04</td>\n      <td>5125.200000</td>\n      <td>323.140000</td>\n    </tr>\n    <tr>\n      <th>1</th>\n      <td>CentralAmerica</td>\n      <td>3.108195e+05</td>\n      <td>1.712796e+05</td>\n      <td>22164.750000</td>\n      <td>104.262500</td>\n    </tr>\n    <tr>\n      <th>2</th>\n      <td>CentralAsia</td>\n      <td>1.712745e+05</td>\n      <td>7.212500e+03</td>\n      <td>7483.000000</td>\n      <td>47.600000</td>\n    </tr>\n    <tr>\n      <th>3</th>\n      <td>EasternAfrica</td>\n      <td>4.816671e+05</td>\n      <td>1.883158e+04</td>\n      <td>25645.750000</td>\n      <td>139.458333</td>\n    </tr>\n    <tr>\n      <th>4</th>\n      <td>EasternAsia</td>\n      <td>5.582058e+06</td>\n      <td>5.585108e+06</td>\n      <td>706296.500000</td>\n      <td>76.050000</td>\n    </tr>\n    <tr>\n      <th>5</th>\n      <td>EasternEurope</td>\n      <td>3.186730e+05</td>\n      <td>4.854500e+04</td>\n      <td>24137.000000</td>\n      <td>99.800000</td>\n    </tr>\n    <tr>\n      <th>6</th>\n      <td>Melanesia</td>\n      <td>2.054250e+04</td>\n      <td>9.060000e+02</td>\n      <td>443.500000</td>\n      <td>22.250000</td>\n    </tr>\n    <tr>\n      <th>7</th>\n      <td>Micronesia</td>\n      <td>5.490000e+02</td>\n      <td>-9.900000e+01</td>\n      <td>164.000000</td>\n      <td>304.100000</td>\n    </tr>\n    <tr>\n      <th>8</th>\n      <td>MiddleAfrica</td>\n      <td>1.054169e+06</td>\n      <td>2.482600e+04</td>\n      <td>36885.000000</td>\n      <td>34.066667</td>\n    </tr>\n    <tr>\n      <th>9</th>\n      <td>NorthernAfrica</td>\n      <td>1.002000e+06</td>\n      <td>3.159170e+05</td>\n      <td>97553.000000</td>\n      <td>98.000000</td>\n    </tr>\n    <tr>\n      <th>10</th>\n      <td>NorthernAmerica</td>\n      <td>9.833517e+06</td>\n      <td>1.803665e+07</td>\n      <td>324460.000000</td>\n      <td>35.500000</td>\n    </tr>\n    <tr>\n      <th>11</th>\n      <td>Polynesia</td>\n      <td>2.842000e+03</td>\n      <td>7.740000e+02</td>\n      <td>196.000000</td>\n      <td>69.400000</td>\n    </tr>\n    <tr>\n      <th>12</th>\n      <td>South-easternAsia</td>\n      <td>5.205436e+05</td>\n      <td>2.298626e+05</td>\n      <td>76377.250000</td>\n      <td>153.762500</td>\n    </tr>\n    <tr>\n      <th>13</th>\n      <td>SouthAmerica</td>\n      <td>1.703150e+06</td>\n      <td>3.327079e+05</td>\n      <td>42953.250000</td>\n      <td>27.050000</td>\n    </tr>\n    <tr>\n      <th>14</th>\n      <td>SouthernAfrica</td>\n      <td>6.918360e+05</td>\n      <td>1.093567e+05</td>\n      <td>20494.666667</td>\n      <td>41.166667</td>\n    </tr>\n    <tr>\n      <th>15</th>\n      <td>SouthernAsia</td>\n      <td>9.843594e+05</td>\n      <td>4.851398e+05</td>\n      <td>320367.800000</td>\n      <td>197.200000</td>\n    </tr>\n    <tr>\n      <th>16</th>\n      <td>SouthernEurope</td>\n      <td>2.874800e+04</td>\n      <td>1.154100e+04</td>\n      <td>2930.000000</td>\n      <td>106.900000</td>\n    </tr>\n    <tr>\n      <th>17</th>\n      <td>WesternAfrica</td>\n      <td>4.164142e+05</td>\n      <td>5.688491e+04</td>\n      <td>30298.545455</td>\n      <td>89.181818</td>\n    </tr>\n    <tr>\n      <th>18</th>\n      <td>WesternAsia</td>\n      <td>2.060487e+05</td>\n      <td>1.389109e+05</td>\n      <td>19296.700000</td>\n      <td>243.040000</td>\n    </tr>\n  </tbody>\n</table>\n</div>"
     },
     "metadata": {},
     "execution_count": 76
    }
   ],
   "source": [
    "# .min(), .max(), .mean(), .count()\n",
    "un_region.min()\n",
    "un_region.max()\n",
    "un_region.mean()\n",
    "un_region.count()"
   ]
  },
  {
   "source": [
    "Let's take a look at aggregating the data using the .agg() method: https://pandas.pydata.org/pandas-docs/stable/reference/api/pandas.DataFrame.agg.html"
   ],
   "cell_type": "markdown",
   "metadata": {}
  },
  {
   "cell_type": "code",
   "execution_count": 85,
   "metadata": {},
   "outputs": [
    {
     "output_type": "execute_result",
     "data": {
      "text/plain": [
       "                   surface_area           gdp     population  \\\n",
       "                           mean          mean           mean   \n",
       "Region                                                         \n",
       "Caribbean          1.720500e+04  3.582980e+04    5125.200000   \n",
       "CentralAmerica     3.108195e+05  1.712796e+05   22164.750000   \n",
       "CentralAsia        1.712745e+05  7.212500e+03    7483.000000   \n",
       "EasternAfrica      4.816671e+05  1.883158e+04   25645.750000   \n",
       "EasternAsia        5.582058e+06  5.585108e+06  706296.500000   \n",
       "EasternEurope      3.186730e+05  4.854500e+04   24137.000000   \n",
       "Melanesia          2.054250e+04  9.060000e+02     443.500000   \n",
       "Micronesia         5.490000e+02 -9.900000e+01     164.000000   \n",
       "MiddleAfrica       1.054169e+06  2.482600e+04   36885.000000   \n",
       "NorthernAfrica     1.002000e+06  3.159170e+05   97553.000000   \n",
       "NorthernAmerica    9.833517e+06  1.803665e+07  324460.000000   \n",
       "Polynesia          2.842000e+03  7.740000e+02     196.000000   \n",
       "South-easternAsia  5.205436e+05  2.298626e+05   76377.250000   \n",
       "SouthAmerica       1.703150e+06  3.327079e+05   42953.250000   \n",
       "SouthernAfrica     6.918360e+05  1.093567e+05   20494.666667   \n",
       "SouthernAsia       9.843594e+05  4.851398e+05  320367.800000   \n",
       "SouthernEurope     2.874800e+04  1.154100e+04    2930.000000   \n",
       "WesternAfrica      4.164142e+05  5.688491e+04   30298.545455   \n",
       "WesternAsia        2.060487e+05  1.389109e+05   19296.700000   \n",
       "\n",
       "                  population_density  \n",
       "                                mean  \n",
       "Region                                \n",
       "Caribbean                 323.140000  \n",
       "CentralAmerica            104.262500  \n",
       "CentralAsia                47.600000  \n",
       "EasternAfrica             139.458333  \n",
       "EasternAsia                76.050000  \n",
       "EasternEurope              99.800000  \n",
       "Melanesia                  22.250000  \n",
       "Micronesia                304.100000  \n",
       "MiddleAfrica               34.066667  \n",
       "NorthernAfrica             98.000000  \n",
       "NorthernAmerica            35.500000  \n",
       "Polynesia                  69.400000  \n",
       "South-easternAsia         153.762500  \n",
       "SouthAmerica               27.050000  \n",
       "SouthernAfrica             41.166667  \n",
       "SouthernAsia              197.200000  \n",
       "SouthernEurope            106.900000  \n",
       "WesternAfrica              89.181818  \n",
       "WesternAsia               243.040000  "
      ],
      "text/html": "<div>\n<style scoped>\n    .dataframe tbody tr th:only-of-type {\n        vertical-align: middle;\n    }\n\n    .dataframe tbody tr th {\n        vertical-align: top;\n    }\n\n    .dataframe thead tr th {\n        text-align: left;\n    }\n\n    .dataframe thead tr:last-of-type th {\n        text-align: right;\n    }\n</style>\n<table border=\"1\" class=\"dataframe\">\n  <thead>\n    <tr>\n      <th></th>\n      <th>surface_area</th>\n      <th>gdp</th>\n      <th>population</th>\n      <th>population_density</th>\n    </tr>\n    <tr>\n      <th></th>\n      <th>mean</th>\n      <th>mean</th>\n      <th>mean</th>\n      <th>mean</th>\n    </tr>\n    <tr>\n      <th>Region</th>\n      <th></th>\n      <th></th>\n      <th></th>\n      <th></th>\n    </tr>\n  </thead>\n  <tbody>\n    <tr>\n      <th>Caribbean</th>\n      <td>1.720500e+04</td>\n      <td>3.582980e+04</td>\n      <td>5125.200000</td>\n      <td>323.140000</td>\n    </tr>\n    <tr>\n      <th>CentralAmerica</th>\n      <td>3.108195e+05</td>\n      <td>1.712796e+05</td>\n      <td>22164.750000</td>\n      <td>104.262500</td>\n    </tr>\n    <tr>\n      <th>CentralAsia</th>\n      <td>1.712745e+05</td>\n      <td>7.212500e+03</td>\n      <td>7483.000000</td>\n      <td>47.600000</td>\n    </tr>\n    <tr>\n      <th>EasternAfrica</th>\n      <td>4.816671e+05</td>\n      <td>1.883158e+04</td>\n      <td>25645.750000</td>\n      <td>139.458333</td>\n    </tr>\n    <tr>\n      <th>EasternAsia</th>\n      <td>5.582058e+06</td>\n      <td>5.585108e+06</td>\n      <td>706296.500000</td>\n      <td>76.050000</td>\n    </tr>\n    <tr>\n      <th>EasternEurope</th>\n      <td>3.186730e+05</td>\n      <td>4.854500e+04</td>\n      <td>24137.000000</td>\n      <td>99.800000</td>\n    </tr>\n    <tr>\n      <th>Melanesia</th>\n      <td>2.054250e+04</td>\n      <td>9.060000e+02</td>\n      <td>443.500000</td>\n      <td>22.250000</td>\n    </tr>\n    <tr>\n      <th>Micronesia</th>\n      <td>5.490000e+02</td>\n      <td>-9.900000e+01</td>\n      <td>164.000000</td>\n      <td>304.100000</td>\n    </tr>\n    <tr>\n      <th>MiddleAfrica</th>\n      <td>1.054169e+06</td>\n      <td>2.482600e+04</td>\n      <td>36885.000000</td>\n      <td>34.066667</td>\n    </tr>\n    <tr>\n      <th>NorthernAfrica</th>\n      <td>1.002000e+06</td>\n      <td>3.159170e+05</td>\n      <td>97553.000000</td>\n      <td>98.000000</td>\n    </tr>\n    <tr>\n      <th>NorthernAmerica</th>\n      <td>9.833517e+06</td>\n      <td>1.803665e+07</td>\n      <td>324460.000000</td>\n      <td>35.500000</td>\n    </tr>\n    <tr>\n      <th>Polynesia</th>\n      <td>2.842000e+03</td>\n      <td>7.740000e+02</td>\n      <td>196.000000</td>\n      <td>69.400000</td>\n    </tr>\n    <tr>\n      <th>South-easternAsia</th>\n      <td>5.205436e+05</td>\n      <td>2.298626e+05</td>\n      <td>76377.250000</td>\n      <td>153.762500</td>\n    </tr>\n    <tr>\n      <th>SouthAmerica</th>\n      <td>1.703150e+06</td>\n      <td>3.327079e+05</td>\n      <td>42953.250000</td>\n      <td>27.050000</td>\n    </tr>\n    <tr>\n      <th>SouthernAfrica</th>\n      <td>6.918360e+05</td>\n      <td>1.093567e+05</td>\n      <td>20494.666667</td>\n      <td>41.166667</td>\n    </tr>\n    <tr>\n      <th>SouthernAsia</th>\n      <td>9.843594e+05</td>\n      <td>4.851398e+05</td>\n      <td>320367.800000</td>\n      <td>197.200000</td>\n    </tr>\n    <tr>\n      <th>SouthernEurope</th>\n      <td>2.874800e+04</td>\n      <td>1.154100e+04</td>\n      <td>2930.000000</td>\n      <td>106.900000</td>\n    </tr>\n    <tr>\n      <th>WesternAfrica</th>\n      <td>4.164142e+05</td>\n      <td>5.688491e+04</td>\n      <td>30298.545455</td>\n      <td>89.181818</td>\n    </tr>\n    <tr>\n      <th>WesternAsia</th>\n      <td>2.060487e+05</td>\n      <td>1.389109e+05</td>\n      <td>19296.700000</td>\n      <td>243.040000</td>\n    </tr>\n  </tbody>\n</table>\n</div>"
     },
     "metadata": {},
     "execution_count": 85
    }
   ],
   "source": [
    "\n",
    "# Get the mean of each column for each region\n",
    "un_region.agg(['mean'])"
   ]
  },
  {
   "cell_type": "code",
   "execution_count": 86,
   "metadata": {},
   "outputs": [
    {
     "output_type": "execute_result",
     "data": {
      "text/plain": [
       "                   surface_area                                gdp  \\\n",
       "                           mean     median       sum          mean   \n",
       "Region                                                               \n",
       "Caribbean          1.720500e+04     8868.0     86025  3.582980e+04   \n",
       "CentralAmerica     3.108195e+05    92104.5   2486556  1.712796e+05   \n",
       "CentralAsia        1.712745e+05   171274.5    342549  7.212500e+03   \n",
       "EasternAfrica      4.816671e+05   589626.5   5780005  1.883158e+04   \n",
       "EasternAsia        5.582058e+06  5582058.0  11164116  5.585108e+06   \n",
       "EasternEurope      3.186730e+05   318673.0    637346  4.854500e+04   \n",
       "Melanesia          2.054250e+04    20542.5     41085  9.060000e+02   \n",
       "Micronesia         5.490000e+02      549.0       549 -9.900000e+01   \n",
       "MiddleAfrica       1.054169e+06   475650.0   3162508  2.482600e+04   \n",
       "NorthernAfrica     1.002000e+06  1002000.0   1002000  3.159170e+05   \n",
       "NorthernAmerica    9.833517e+06  9833517.0   9833517  1.803665e+07   \n",
       "Polynesia          2.842000e+03     2842.0      2842  7.740000e+02   \n",
       "South-easternAsia  5.205436e+05   315483.5   4164349  2.298626e+05   \n",
       "SouthAmerica       1.703150e+06   927341.5  13625203  3.327079e+05   \n",
       "SouthernAfrica     6.918360e+05   824116.0   2075508  1.093567e+05   \n",
       "SouthernAsia       9.843594e+05   652864.0   4921797  4.851398e+05   \n",
       "SouthernEurope     2.874800e+04    28748.0     28748  1.154100e+04   \n",
       "WesternAfrica      4.164142e+05   238537.0   4580556  5.688491e+04   \n",
       "WesternAsia        2.060487e+05    78150.0   2060487  1.389109e+05   \n",
       "\n",
       "                                            population                     \\\n",
       "                       median       sum           mean    median      sum   \n",
       "Region                                                                      \n",
       "Caribbean              8501.0    179149    5125.200000    3663.0    25626   \n",
       "CentralAmerica        38991.0   1370237   22164.750000    6298.0   177318   \n",
       "CentralAsia            7212.5     14425    7483.000000    7483.0    14966   \n",
       "EasternAfrica         13530.0    225979   25645.750000   17858.0   307749   \n",
       "EasternAsia         5585107.5  11170215  706296.500000  706296.5  1412593   \n",
       "EasternEurope         48545.0     97090   24137.000000   24137.0    48274   \n",
       "Melanesia               906.0      1812     443.500000     443.5      887   \n",
       "Micronesia              -99.0       -99     164.000000     164.0      164   \n",
       "MiddleAfrica          28416.0     74478   36885.000000   24054.0   110655   \n",
       "NorthernAfrica       315917.0    315917   97553.000000   97553.0    97553   \n",
       "NorthernAmerica    18036648.0  18036648  324460.000000  324460.0   324460   \n",
       "Polynesia               774.0       774     196.000000     196.0      196   \n",
       "South-easternAsia    127921.0   1838901   76377.250000   61204.5   611018   \n",
       "SouthAmerica         145302.5   2661663   42953.250000   17340.0   343626   \n",
       "SouthernAfrica        11491.0    328070   20494.666667    2534.0    61484   \n",
       "SouthernAsia          20658.0   2425699  320367.800000   35530.0  1601839   \n",
       "SouthernEurope        11541.0     11541    2930.000000    2930.0     2930   \n",
       "WesternAfrica         11065.0    625734   30298.545455   15851.0   333284   \n",
       "WesternAsia           43833.0   1389109   19296.700000    9012.0   192967   \n",
       "\n",
       "                  population_density                  \n",
       "                                mean  median     sum  \n",
       "Region                                                \n",
       "Caribbean                 323.140000  299.70  1615.7  \n",
       "CentralAmerica            104.262500   74.60   834.1  \n",
       "CentralAsia                47.600000   47.60    95.2  \n",
       "EasternAfrica             139.458333   54.35  1673.5  \n",
       "EasternAsia                76.050000   76.05   152.1  \n",
       "EasternEurope              99.800000   99.80   199.6  \n",
       "Melanesia                  22.250000   22.25    44.5  \n",
       "Micronesia                304.100000  304.10   304.1  \n",
       "MiddleAfrica               34.066667   35.90   102.2  \n",
       "NorthernAfrica             98.000000   98.00    98.0  \n",
       "NorthernAmerica            35.500000   35.50    35.5  \n",
       "Polynesia                  69.400000   69.40    69.4  \n",
       "South-easternAsia         153.762500  112.90  1230.1  \n",
       "SouthAmerica               27.050000   24.65   216.4  \n",
       "SouthernAfrica             41.166667   46.80   123.5  \n",
       "SouthernAsia              197.200000  204.40   986.0  \n",
       "SouthernEurope            106.900000  106.90   106.9  \n",
       "WesternAfrica              89.181818   82.30   981.0  \n",
       "WesternAsia               243.040000  107.10  2430.4  "
      ],
      "text/html": "<div>\n<style scoped>\n    .dataframe tbody tr th:only-of-type {\n        vertical-align: middle;\n    }\n\n    .dataframe tbody tr th {\n        vertical-align: top;\n    }\n\n    .dataframe thead tr th {\n        text-align: left;\n    }\n\n    .dataframe thead tr:last-of-type th {\n        text-align: right;\n    }\n</style>\n<table border=\"1\" class=\"dataframe\">\n  <thead>\n    <tr>\n      <th></th>\n      <th colspan=\"3\" halign=\"left\">surface_area</th>\n      <th colspan=\"3\" halign=\"left\">gdp</th>\n      <th colspan=\"3\" halign=\"left\">population</th>\n      <th colspan=\"3\" halign=\"left\">population_density</th>\n    </tr>\n    <tr>\n      <th></th>\n      <th>mean</th>\n      <th>median</th>\n      <th>sum</th>\n      <th>mean</th>\n      <th>median</th>\n      <th>sum</th>\n      <th>mean</th>\n      <th>median</th>\n      <th>sum</th>\n      <th>mean</th>\n      <th>median</th>\n      <th>sum</th>\n    </tr>\n    <tr>\n      <th>Region</th>\n      <th></th>\n      <th></th>\n      <th></th>\n      <th></th>\n      <th></th>\n      <th></th>\n      <th></th>\n      <th></th>\n      <th></th>\n      <th></th>\n      <th></th>\n      <th></th>\n    </tr>\n  </thead>\n  <tbody>\n    <tr>\n      <th>Caribbean</th>\n      <td>1.720500e+04</td>\n      <td>8868.0</td>\n      <td>86025</td>\n      <td>3.582980e+04</td>\n      <td>8501.0</td>\n      <td>179149</td>\n      <td>5125.200000</td>\n      <td>3663.0</td>\n      <td>25626</td>\n      <td>323.140000</td>\n      <td>299.70</td>\n      <td>1615.7</td>\n    </tr>\n    <tr>\n      <th>CentralAmerica</th>\n      <td>3.108195e+05</td>\n      <td>92104.5</td>\n      <td>2486556</td>\n      <td>1.712796e+05</td>\n      <td>38991.0</td>\n      <td>1370237</td>\n      <td>22164.750000</td>\n      <td>6298.0</td>\n      <td>177318</td>\n      <td>104.262500</td>\n      <td>74.60</td>\n      <td>834.1</td>\n    </tr>\n    <tr>\n      <th>CentralAsia</th>\n      <td>1.712745e+05</td>\n      <td>171274.5</td>\n      <td>342549</td>\n      <td>7.212500e+03</td>\n      <td>7212.5</td>\n      <td>14425</td>\n      <td>7483.000000</td>\n      <td>7483.0</td>\n      <td>14966</td>\n      <td>47.600000</td>\n      <td>47.60</td>\n      <td>95.2</td>\n    </tr>\n    <tr>\n      <th>EasternAfrica</th>\n      <td>4.816671e+05</td>\n      <td>589626.5</td>\n      <td>5780005</td>\n      <td>1.883158e+04</td>\n      <td>13530.0</td>\n      <td>225979</td>\n      <td>25645.750000</td>\n      <td>17858.0</td>\n      <td>307749</td>\n      <td>139.458333</td>\n      <td>54.35</td>\n      <td>1673.5</td>\n    </tr>\n    <tr>\n      <th>EasternAsia</th>\n      <td>5.582058e+06</td>\n      <td>5582058.0</td>\n      <td>11164116</td>\n      <td>5.585108e+06</td>\n      <td>5585107.5</td>\n      <td>11170215</td>\n      <td>706296.500000</td>\n      <td>706296.5</td>\n      <td>1412593</td>\n      <td>76.050000</td>\n      <td>76.05</td>\n      <td>152.1</td>\n    </tr>\n    <tr>\n      <th>EasternEurope</th>\n      <td>3.186730e+05</td>\n      <td>318673.0</td>\n      <td>637346</td>\n      <td>4.854500e+04</td>\n      <td>48545.0</td>\n      <td>97090</td>\n      <td>24137.000000</td>\n      <td>24137.0</td>\n      <td>48274</td>\n      <td>99.800000</td>\n      <td>99.80</td>\n      <td>199.6</td>\n    </tr>\n    <tr>\n      <th>Melanesia</th>\n      <td>2.054250e+04</td>\n      <td>20542.5</td>\n      <td>41085</td>\n      <td>9.060000e+02</td>\n      <td>906.0</td>\n      <td>1812</td>\n      <td>443.500000</td>\n      <td>443.5</td>\n      <td>887</td>\n      <td>22.250000</td>\n      <td>22.25</td>\n      <td>44.5</td>\n    </tr>\n    <tr>\n      <th>Micronesia</th>\n      <td>5.490000e+02</td>\n      <td>549.0</td>\n      <td>549</td>\n      <td>-9.900000e+01</td>\n      <td>-99.0</td>\n      <td>-99</td>\n      <td>164.000000</td>\n      <td>164.0</td>\n      <td>164</td>\n      <td>304.100000</td>\n      <td>304.10</td>\n      <td>304.1</td>\n    </tr>\n    <tr>\n      <th>MiddleAfrica</th>\n      <td>1.054169e+06</td>\n      <td>475650.0</td>\n      <td>3162508</td>\n      <td>2.482600e+04</td>\n      <td>28416.0</td>\n      <td>74478</td>\n      <td>36885.000000</td>\n      <td>24054.0</td>\n      <td>110655</td>\n      <td>34.066667</td>\n      <td>35.90</td>\n      <td>102.2</td>\n    </tr>\n    <tr>\n      <th>NorthernAfrica</th>\n      <td>1.002000e+06</td>\n      <td>1002000.0</td>\n      <td>1002000</td>\n      <td>3.159170e+05</td>\n      <td>315917.0</td>\n      <td>315917</td>\n      <td>97553.000000</td>\n      <td>97553.0</td>\n      <td>97553</td>\n      <td>98.000000</td>\n      <td>98.00</td>\n      <td>98.0</td>\n    </tr>\n    <tr>\n      <th>NorthernAmerica</th>\n      <td>9.833517e+06</td>\n      <td>9833517.0</td>\n      <td>9833517</td>\n      <td>1.803665e+07</td>\n      <td>18036648.0</td>\n      <td>18036648</td>\n      <td>324460.000000</td>\n      <td>324460.0</td>\n      <td>324460</td>\n      <td>35.500000</td>\n      <td>35.50</td>\n      <td>35.5</td>\n    </tr>\n    <tr>\n      <th>Polynesia</th>\n      <td>2.842000e+03</td>\n      <td>2842.0</td>\n      <td>2842</td>\n      <td>7.740000e+02</td>\n      <td>774.0</td>\n      <td>774</td>\n      <td>196.000000</td>\n      <td>196.0</td>\n      <td>196</td>\n      <td>69.400000</td>\n      <td>69.40</td>\n      <td>69.4</td>\n    </tr>\n    <tr>\n      <th>South-easternAsia</th>\n      <td>5.205436e+05</td>\n      <td>315483.5</td>\n      <td>4164349</td>\n      <td>2.298626e+05</td>\n      <td>127921.0</td>\n      <td>1838901</td>\n      <td>76377.250000</td>\n      <td>61204.5</td>\n      <td>611018</td>\n      <td>153.762500</td>\n      <td>112.90</td>\n      <td>1230.1</td>\n    </tr>\n    <tr>\n      <th>SouthAmerica</th>\n      <td>1.703150e+06</td>\n      <td>927341.5</td>\n      <td>13625203</td>\n      <td>3.327079e+05</td>\n      <td>145302.5</td>\n      <td>2661663</td>\n      <td>42953.250000</td>\n      <td>17340.0</td>\n      <td>343626</td>\n      <td>27.050000</td>\n      <td>24.65</td>\n      <td>216.4</td>\n    </tr>\n    <tr>\n      <th>SouthernAfrica</th>\n      <td>6.918360e+05</td>\n      <td>824116.0</td>\n      <td>2075508</td>\n      <td>1.093567e+05</td>\n      <td>11491.0</td>\n      <td>328070</td>\n      <td>20494.666667</td>\n      <td>2534.0</td>\n      <td>61484</td>\n      <td>41.166667</td>\n      <td>46.80</td>\n      <td>123.5</td>\n    </tr>\n    <tr>\n      <th>SouthernAsia</th>\n      <td>9.843594e+05</td>\n      <td>652864.0</td>\n      <td>4921797</td>\n      <td>4.851398e+05</td>\n      <td>20658.0</td>\n      <td>2425699</td>\n      <td>320367.800000</td>\n      <td>35530.0</td>\n      <td>1601839</td>\n      <td>197.200000</td>\n      <td>204.40</td>\n      <td>986.0</td>\n    </tr>\n    <tr>\n      <th>SouthernEurope</th>\n      <td>2.874800e+04</td>\n      <td>28748.0</td>\n      <td>28748</td>\n      <td>1.154100e+04</td>\n      <td>11541.0</td>\n      <td>11541</td>\n      <td>2930.000000</td>\n      <td>2930.0</td>\n      <td>2930</td>\n      <td>106.900000</td>\n      <td>106.90</td>\n      <td>106.9</td>\n    </tr>\n    <tr>\n      <th>WesternAfrica</th>\n      <td>4.164142e+05</td>\n      <td>238537.0</td>\n      <td>4580556</td>\n      <td>5.688491e+04</td>\n      <td>11065.0</td>\n      <td>625734</td>\n      <td>30298.545455</td>\n      <td>15851.0</td>\n      <td>333284</td>\n      <td>89.181818</td>\n      <td>82.30</td>\n      <td>981.0</td>\n    </tr>\n    <tr>\n      <th>WesternAsia</th>\n      <td>2.060487e+05</td>\n      <td>78150.0</td>\n      <td>2060487</td>\n      <td>1.389109e+05</td>\n      <td>43833.0</td>\n      <td>1389109</td>\n      <td>19296.700000</td>\n      <td>9012.0</td>\n      <td>192967</td>\n      <td>243.040000</td>\n      <td>107.10</td>\n      <td>2430.4</td>\n    </tr>\n  </tbody>\n</table>\n</div>"
     },
     "metadata": {},
     "execution_count": 86
    }
   ],
   "source": [
    "# Get mean, median, and sum\n",
    "un_region.agg(['mean', 'median', 'sum'])"
   ]
  },
  {
   "source": [
    "We can also pass in other functions or define our own. These are referred to as higher-order functions, i.e. functions that take in other functions as arguments. \n",
    "\n"
   ],
   "cell_type": "markdown",
   "metadata": {}
  },
  {
   "cell_type": "code",
   "execution_count": 101,
   "metadata": {},
   "outputs": [
    {
     "output_type": "execute_result",
     "data": {
      "text/plain": [
       "6"
      ]
     },
     "metadata": {},
     "execution_count": 101
    }
   ],
   "source": [
    "# Example of higher-order function\n",
    "def add_two(val):\n",
    "    return val + 2\n",
    "\n",
    "def do_calculation(val, func):\n",
    "    return func(val)\n",
    "\n",
    "def subtract_nine(val):\n",
    "    return val - 9\n",
    "\n",
    "do_calculation(12, add_two)\n",
    "do_calculation(15, subtract_nine)"
   ]
  },
  {
   "cell_type": "code",
   "execution_count": 96,
   "metadata": {},
   "outputs": [
    {
     "output_type": "execute_result",
     "data": {
      "text/plain": [
       "[1, 2, 6, 11]"
      ]
     },
     "metadata": {},
     "execution_count": 96
    }
   ],
   "source": [
    "# Example of filtering\n",
    "def is_nine(val):\n",
    "    return val is not 9\n",
    "\n",
    "values = [1, 2, 6, 9, 9, 11]\n",
    "res = list(filter(is_nine, values))"
   ]
  },
  {
   "source": [
    "Let's use the statistics module from scipy to calculate some new values: https://docs.scipy.org/doc/scipy/reference/stats.html"
   ],
   "cell_type": "markdown",
   "metadata": {}
  },
  {
   "cell_type": "code",
   "execution_count": 100,
   "metadata": {},
   "outputs": [
    {
     "output_type": "execute_result",
     "data": {
      "text/plain": [
       "                   surface_area                                   gdp  \\\n",
       "                           tsem          tstd      skew          tsem   \n",
       "Region                                                                  \n",
       "Caribbean          9.321432e+03  2.084335e+04  0.685299  2.091220e+04   \n",
       "CentralAmerica     2.366682e+05  6.693987e+05  2.250712  1.387055e+05   \n",
       "CentralAsia        2.867450e+04  4.055187e+04  0.000000  6.405000e+02   \n",
       "EasternAfrica      9.050907e+04  3.135326e+05 -0.263652  5.318552e+03   \n",
       "EasternAsia        4.017942e+06  5.682228e+06  0.000000  5.573349e+06   \n",
       "EasternEurope      2.848270e+05  4.028062e+05  0.000000  4.207000e+04   \n",
       "Melanesia          8.353500e+03  1.181363e+04  0.000000  1.690000e+02   \n",
       "Micronesia                  NaN           NaN  0.000000           NaN   \n",
       "MiddleAfrica       6.464966e+05  1.119765e+06  0.695791  8.583308e+03   \n",
       "NorthernAfrica              NaN           NaN  0.000000           NaN   \n",
       "NorthernAmerica             NaN           NaN  0.000000           NaN   \n",
       "Polynesia                   NaN           NaN  0.000000           NaN   \n",
       "South-easternAsia  2.110175e+05  5.968477e+05  1.783458  1.038262e+05   \n",
       "SouthAmerica       9.847489e+05  2.785290e+06  2.162869  2.090794e+05   \n",
       "SouthernAfrica     3.500259e+05  6.062627e+05 -0.381757  1.026437e+05   \n",
       "SouthernAsia       5.934819e+05  1.327066e+06  1.284080  4.107010e+05   \n",
       "SouthernEurope              NaN           NaN  0.000000           NaN   \n",
       "WesternAfrica      1.298416e+05  4.306358e+05  0.995896  4.390537e+04   \n",
       "WesternAsia        8.687679e+04  2.747285e+05  1.157696  7.048297e+04   \n",
       "\n",
       "                                              population                 \\\n",
       "                           tstd      skew           tsem           tstd   \n",
       "Region                                                                    \n",
       "Caribbean          4.676111e+04  0.607884    2435.292270    5445.479061   \n",
       "CentralAmerica     3.923185e+05  2.253862   15379.223415   43499.012664   \n",
       "CentralAsia        9.058038e+02  0.000000    1438.000000    2033.639103   \n",
       "EasternAfrica      1.842400e+04  1.434065    4595.949529   15920.836188   \n",
       "EasternAsia        7.881906e+06  0.000000  703220.500000  994503.968439   \n",
       "EasternEurope      5.949596e+04  0.000000   20086.000000   28405.893614   \n",
       "Melanesia          2.390021e+02  0.000000     167.500000     236.880772   \n",
       "Micronesia                  NaN  0.000000            NaN            NaN   \n",
       "MiddleAfrica       1.486673e+04 -0.417756   22879.972909   39629.275555   \n",
       "NorthernAfrica              NaN  0.000000            NaN            NaN   \n",
       "NorthernAmerica             NaN  0.000000            NaN            NaN   \n",
       "Polynesia                   NaN  0.000000            NaN            NaN   \n",
       "South-easternAsia  2.936648e+05  1.333305   30201.355172   85422.332172   \n",
       "SouthAmerica       5.913659e+05  2.125620   24368.804859   68925.388662   \n",
       "SouthernAfrica     1.777841e+05  0.704844   18111.375103   31369.821873   \n",
       "SouthernAsia       9.183553e+05  1.449172  257017.757855  574709.177989   \n",
       "SouthernEurope              NaN  0.000000            NaN            NaN   \n",
       "WesternAfrica      1.456176e+05  2.814527   16239.477886   53860.254939   \n",
       "WesternAsia        2.228867e+05  1.993615    7749.004611   24504.504171   \n",
       "\n",
       "                            population_density                        \n",
       "                       skew               tsem        tstd      skew  \n",
       "Region                                                                \n",
       "Caribbean          0.215651          36.100853   80.723962  0.030881  \n",
       "CentralAmerica     2.214198          32.501153   91.927144  1.489869  \n",
       "CentralAsia        0.000000          16.100000   22.768838  0.000000  \n",
       "EasternAfrica      0.939269          47.199301  163.503175  1.306365  \n",
       "EasternAsia        0.000000          74.050000  104.722514  0.000000  \n",
       "EasternEurope      0.000000          23.500000   33.234019  0.000000  \n",
       "Melanesia          0.000000           0.450000    0.636396  0.000000  \n",
       "Micronesia         0.000000                NaN         NaN  0.000000  \n",
       "MiddleAfrica       0.532459          10.288883   17.820868 -0.186994  \n",
       "NorthernAfrica     0.000000                NaN         NaN  0.000000  \n",
       "NorthernAmerica    0.000000                NaN         NaN  0.000000  \n",
       "Polynesia          0.000000                NaN         NaN  0.000000  \n",
       "South-easternAsia  1.382405          40.638603  114.943327  0.866714  \n",
       "SouthAmerica       2.057515           7.109526   20.108776  0.932068  \n",
       "SouthernAfrica     0.707034          20.545586   35.585999 -0.283531  \n",
       "SouthernAsia       1.436007          77.116950  172.438743  0.439830  \n",
       "SouthernEurope     0.000000                NaN         NaN  0.000000  \n",
       "WesternAfrica      2.732611          17.592038   58.346188  0.460914  \n",
       "WesternAsia        1.776751          84.348314  266.732788  1.290031  "
      ],
      "text/html": "<div>\n<style scoped>\n    .dataframe tbody tr th:only-of-type {\n        vertical-align: middle;\n    }\n\n    .dataframe tbody tr th {\n        vertical-align: top;\n    }\n\n    .dataframe thead tr th {\n        text-align: left;\n    }\n\n    .dataframe thead tr:last-of-type th {\n        text-align: right;\n    }\n</style>\n<table border=\"1\" class=\"dataframe\">\n  <thead>\n    <tr>\n      <th></th>\n      <th colspan=\"3\" halign=\"left\">surface_area</th>\n      <th colspan=\"3\" halign=\"left\">gdp</th>\n      <th colspan=\"3\" halign=\"left\">population</th>\n      <th colspan=\"3\" halign=\"left\">population_density</th>\n    </tr>\n    <tr>\n      <th></th>\n      <th>tsem</th>\n      <th>tstd</th>\n      <th>skew</th>\n      <th>tsem</th>\n      <th>tstd</th>\n      <th>skew</th>\n      <th>tsem</th>\n      <th>tstd</th>\n      <th>skew</th>\n      <th>tsem</th>\n      <th>tstd</th>\n      <th>skew</th>\n    </tr>\n    <tr>\n      <th>Region</th>\n      <th></th>\n      <th></th>\n      <th></th>\n      <th></th>\n      <th></th>\n      <th></th>\n      <th></th>\n      <th></th>\n      <th></th>\n      <th></th>\n      <th></th>\n      <th></th>\n    </tr>\n  </thead>\n  <tbody>\n    <tr>\n      <th>Caribbean</th>\n      <td>9.321432e+03</td>\n      <td>2.084335e+04</td>\n      <td>0.685299</td>\n      <td>2.091220e+04</td>\n      <td>4.676111e+04</td>\n      <td>0.607884</td>\n      <td>2435.292270</td>\n      <td>5445.479061</td>\n      <td>0.215651</td>\n      <td>36.100853</td>\n      <td>80.723962</td>\n      <td>0.030881</td>\n    </tr>\n    <tr>\n      <th>CentralAmerica</th>\n      <td>2.366682e+05</td>\n      <td>6.693987e+05</td>\n      <td>2.250712</td>\n      <td>1.387055e+05</td>\n      <td>3.923185e+05</td>\n      <td>2.253862</td>\n      <td>15379.223415</td>\n      <td>43499.012664</td>\n      <td>2.214198</td>\n      <td>32.501153</td>\n      <td>91.927144</td>\n      <td>1.489869</td>\n    </tr>\n    <tr>\n      <th>CentralAsia</th>\n      <td>2.867450e+04</td>\n      <td>4.055187e+04</td>\n      <td>0.000000</td>\n      <td>6.405000e+02</td>\n      <td>9.058038e+02</td>\n      <td>0.000000</td>\n      <td>1438.000000</td>\n      <td>2033.639103</td>\n      <td>0.000000</td>\n      <td>16.100000</td>\n      <td>22.768838</td>\n      <td>0.000000</td>\n    </tr>\n    <tr>\n      <th>EasternAfrica</th>\n      <td>9.050907e+04</td>\n      <td>3.135326e+05</td>\n      <td>-0.263652</td>\n      <td>5.318552e+03</td>\n      <td>1.842400e+04</td>\n      <td>1.434065</td>\n      <td>4595.949529</td>\n      <td>15920.836188</td>\n      <td>0.939269</td>\n      <td>47.199301</td>\n      <td>163.503175</td>\n      <td>1.306365</td>\n    </tr>\n    <tr>\n      <th>EasternAsia</th>\n      <td>4.017942e+06</td>\n      <td>5.682228e+06</td>\n      <td>0.000000</td>\n      <td>5.573349e+06</td>\n      <td>7.881906e+06</td>\n      <td>0.000000</td>\n      <td>703220.500000</td>\n      <td>994503.968439</td>\n      <td>0.000000</td>\n      <td>74.050000</td>\n      <td>104.722514</td>\n      <td>0.000000</td>\n    </tr>\n    <tr>\n      <th>EasternEurope</th>\n      <td>2.848270e+05</td>\n      <td>4.028062e+05</td>\n      <td>0.000000</td>\n      <td>4.207000e+04</td>\n      <td>5.949596e+04</td>\n      <td>0.000000</td>\n      <td>20086.000000</td>\n      <td>28405.893614</td>\n      <td>0.000000</td>\n      <td>23.500000</td>\n      <td>33.234019</td>\n      <td>0.000000</td>\n    </tr>\n    <tr>\n      <th>Melanesia</th>\n      <td>8.353500e+03</td>\n      <td>1.181363e+04</td>\n      <td>0.000000</td>\n      <td>1.690000e+02</td>\n      <td>2.390021e+02</td>\n      <td>0.000000</td>\n      <td>167.500000</td>\n      <td>236.880772</td>\n      <td>0.000000</td>\n      <td>0.450000</td>\n      <td>0.636396</td>\n      <td>0.000000</td>\n    </tr>\n    <tr>\n      <th>Micronesia</th>\n      <td>NaN</td>\n      <td>NaN</td>\n      <td>0.000000</td>\n      <td>NaN</td>\n      <td>NaN</td>\n      <td>0.000000</td>\n      <td>NaN</td>\n      <td>NaN</td>\n      <td>0.000000</td>\n      <td>NaN</td>\n      <td>NaN</td>\n      <td>0.000000</td>\n    </tr>\n    <tr>\n      <th>MiddleAfrica</th>\n      <td>6.464966e+05</td>\n      <td>1.119765e+06</td>\n      <td>0.695791</td>\n      <td>8.583308e+03</td>\n      <td>1.486673e+04</td>\n      <td>-0.417756</td>\n      <td>22879.972909</td>\n      <td>39629.275555</td>\n      <td>0.532459</td>\n      <td>10.288883</td>\n      <td>17.820868</td>\n      <td>-0.186994</td>\n    </tr>\n    <tr>\n      <th>NorthernAfrica</th>\n      <td>NaN</td>\n      <td>NaN</td>\n      <td>0.000000</td>\n      <td>NaN</td>\n      <td>NaN</td>\n      <td>0.000000</td>\n      <td>NaN</td>\n      <td>NaN</td>\n      <td>0.000000</td>\n      <td>NaN</td>\n      <td>NaN</td>\n      <td>0.000000</td>\n    </tr>\n    <tr>\n      <th>NorthernAmerica</th>\n      <td>NaN</td>\n      <td>NaN</td>\n      <td>0.000000</td>\n      <td>NaN</td>\n      <td>NaN</td>\n      <td>0.000000</td>\n      <td>NaN</td>\n      <td>NaN</td>\n      <td>0.000000</td>\n      <td>NaN</td>\n      <td>NaN</td>\n      <td>0.000000</td>\n    </tr>\n    <tr>\n      <th>Polynesia</th>\n      <td>NaN</td>\n      <td>NaN</td>\n      <td>0.000000</td>\n      <td>NaN</td>\n      <td>NaN</td>\n      <td>0.000000</td>\n      <td>NaN</td>\n      <td>NaN</td>\n      <td>0.000000</td>\n      <td>NaN</td>\n      <td>NaN</td>\n      <td>0.000000</td>\n    </tr>\n    <tr>\n      <th>South-easternAsia</th>\n      <td>2.110175e+05</td>\n      <td>5.968477e+05</td>\n      <td>1.783458</td>\n      <td>1.038262e+05</td>\n      <td>2.936648e+05</td>\n      <td>1.333305</td>\n      <td>30201.355172</td>\n      <td>85422.332172</td>\n      <td>1.382405</td>\n      <td>40.638603</td>\n      <td>114.943327</td>\n      <td>0.866714</td>\n    </tr>\n    <tr>\n      <th>SouthAmerica</th>\n      <td>9.847489e+05</td>\n      <td>2.785290e+06</td>\n      <td>2.162869</td>\n      <td>2.090794e+05</td>\n      <td>5.913659e+05</td>\n      <td>2.125620</td>\n      <td>24368.804859</td>\n      <td>68925.388662</td>\n      <td>2.057515</td>\n      <td>7.109526</td>\n      <td>20.108776</td>\n      <td>0.932068</td>\n    </tr>\n    <tr>\n      <th>SouthernAfrica</th>\n      <td>3.500259e+05</td>\n      <td>6.062627e+05</td>\n      <td>-0.381757</td>\n      <td>1.026437e+05</td>\n      <td>1.777841e+05</td>\n      <td>0.704844</td>\n      <td>18111.375103</td>\n      <td>31369.821873</td>\n      <td>0.707034</td>\n      <td>20.545586</td>\n      <td>35.585999</td>\n      <td>-0.283531</td>\n    </tr>\n    <tr>\n      <th>SouthernAsia</th>\n      <td>5.934819e+05</td>\n      <td>1.327066e+06</td>\n      <td>1.284080</td>\n      <td>4.107010e+05</td>\n      <td>9.183553e+05</td>\n      <td>1.449172</td>\n      <td>257017.757855</td>\n      <td>574709.177989</td>\n      <td>1.436007</td>\n      <td>77.116950</td>\n      <td>172.438743</td>\n      <td>0.439830</td>\n    </tr>\n    <tr>\n      <th>SouthernEurope</th>\n      <td>NaN</td>\n      <td>NaN</td>\n      <td>0.000000</td>\n      <td>NaN</td>\n      <td>NaN</td>\n      <td>0.000000</td>\n      <td>NaN</td>\n      <td>NaN</td>\n      <td>0.000000</td>\n      <td>NaN</td>\n      <td>NaN</td>\n      <td>0.000000</td>\n    </tr>\n    <tr>\n      <th>WesternAfrica</th>\n      <td>1.298416e+05</td>\n      <td>4.306358e+05</td>\n      <td>0.995896</td>\n      <td>4.390537e+04</td>\n      <td>1.456176e+05</td>\n      <td>2.814527</td>\n      <td>16239.477886</td>\n      <td>53860.254939</td>\n      <td>2.732611</td>\n      <td>17.592038</td>\n      <td>58.346188</td>\n      <td>0.460914</td>\n    </tr>\n    <tr>\n      <th>WesternAsia</th>\n      <td>8.687679e+04</td>\n      <td>2.747285e+05</td>\n      <td>1.157696</td>\n      <td>7.048297e+04</td>\n      <td>2.228867e+05</td>\n      <td>1.993615</td>\n      <td>7749.004611</td>\n      <td>24504.504171</td>\n      <td>1.776751</td>\n      <td>84.348314</td>\n      <td>266.732788</td>\n      <td>1.290031</td>\n    </tr>\n  </tbody>\n</table>\n</div>"
     },
     "metadata": {},
     "execution_count": 100
    }
   ],
   "source": [
    "# stats.tsem(), stats.tstd(), stats.skew()\n",
    "un_region.agg([stats.tsem, stats.tstd, stats.skew])"
   ]
  },
  {
   "cell_type": "code",
   "execution_count": 102,
   "metadata": {},
   "outputs": [],
   "source": [
    "# Use a lambda function\n",
    "# https://www.geeksforgeeks.org/python-lambda-anonymous-functions-filter-map-reduce/\n",
    "\n",
    "get_max = lambda x : x.max()\n",
    "def get_max_alt(x):\n",
    "    return x.max()"
   ]
  },
  {
   "cell_type": "code",
   "execution_count": 107,
   "metadata": {},
   "outputs": [
    {
     "output_type": "execute_result",
     "data": {
      "text/plain": [
       "                                                country surface_area  \\\n",
       "                                            get_max_alt  get_max_alt   \n",
       "Region                                                                 \n",
       "Caribbean                                Virgin Islands        48671   \n",
       "CentralAmerica                                   Panama      1964375   \n",
       "CentralAsia                                  Tajikistan       199949   \n",
       "EasternAfrica                                  Zimbabwe       947303   \n",
       "EasternAsia                                    Mongolia      9600000   \n",
       "EasternEurope                                   Ukraine       603500   \n",
       "Melanesia                                       Vanuatu        28896   \n",
       "Micronesia                                         Guam          549   \n",
       "MiddleAfrica       The Democratic Republic of the Congo      2344858   \n",
       "NorthernAfrica                                    Egypt      1002000   \n",
       "NorthernAmerica                           United States      9833517   \n",
       "Polynesia                                         Samoa         2842   \n",
       "South-easternAsia                               Vietnam      1910931   \n",
       "SouthAmerica                                   Suriname      8515767   \n",
       "SouthernAfrica                             South Africa      1221037   \n",
       "SouthernAsia                                   Pakistan      3287263   \n",
       "SouthernEurope                                  Albania        28748   \n",
       "WesternAfrica                                      Togo      1240192   \n",
       "WesternAsia                                       Yemen       783562   \n",
       "\n",
       "                          gdp  population population_density  \n",
       "                  get_max_alt get_max_alt        get_max_alt  \n",
       "Region                                                        \n",
       "Caribbean              102906       10981              413.0  \n",
       "CentralAmerica        1140724      129163              307.8  \n",
       "CentralAsia              7853        8921               63.7  \n",
       "EasternAfrica           63399       57310              494.9  \n",
       "EasternAsia          11158457     1409517              150.1  \n",
       "EasternEurope           90615       44223              123.3  \n",
       "Melanesia                1075         611               22.7  \n",
       "Micronesia                -99         164              304.1  \n",
       "MiddleAfrica            37569       81340               50.9  \n",
       "NorthernAfrica         315917       97553               98.0  \n",
       "NorthernAmerica      18036648      324460               35.5  \n",
       "Polynesia                 774         196               69.4  \n",
       "South-easternAsia      861934      263991              351.9  \n",
       "SouthAmerica          1772591      209288               66.9  \n",
       "SouthernAfrica         314571       56717               73.6  \n",
       "SouthernAsia          2116239     1339180              450.4  \n",
       "SouthernEurope          11541        2930              106.9  \n",
       "WesternAfrica          494583      190886              209.6  \n",
       "WesternAsia            717888       80745              817.4  "
      ],
      "text/html": "<div>\n<style scoped>\n    .dataframe tbody tr th:only-of-type {\n        vertical-align: middle;\n    }\n\n    .dataframe tbody tr th {\n        vertical-align: top;\n    }\n\n    .dataframe thead tr th {\n        text-align: left;\n    }\n\n    .dataframe thead tr:last-of-type th {\n        text-align: right;\n    }\n</style>\n<table border=\"1\" class=\"dataframe\">\n  <thead>\n    <tr>\n      <th></th>\n      <th>country</th>\n      <th>surface_area</th>\n      <th>gdp</th>\n      <th>population</th>\n      <th>population_density</th>\n    </tr>\n    <tr>\n      <th></th>\n      <th>get_max_alt</th>\n      <th>get_max_alt</th>\n      <th>get_max_alt</th>\n      <th>get_max_alt</th>\n      <th>get_max_alt</th>\n    </tr>\n    <tr>\n      <th>Region</th>\n      <th></th>\n      <th></th>\n      <th></th>\n      <th></th>\n      <th></th>\n    </tr>\n  </thead>\n  <tbody>\n    <tr>\n      <th>Caribbean</th>\n      <td>Virgin Islands</td>\n      <td>48671</td>\n      <td>102906</td>\n      <td>10981</td>\n      <td>413.0</td>\n    </tr>\n    <tr>\n      <th>CentralAmerica</th>\n      <td>Panama</td>\n      <td>1964375</td>\n      <td>1140724</td>\n      <td>129163</td>\n      <td>307.8</td>\n    </tr>\n    <tr>\n      <th>CentralAsia</th>\n      <td>Tajikistan</td>\n      <td>199949</td>\n      <td>7853</td>\n      <td>8921</td>\n      <td>63.7</td>\n    </tr>\n    <tr>\n      <th>EasternAfrica</th>\n      <td>Zimbabwe</td>\n      <td>947303</td>\n      <td>63399</td>\n      <td>57310</td>\n      <td>494.9</td>\n    </tr>\n    <tr>\n      <th>EasternAsia</th>\n      <td>Mongolia</td>\n      <td>9600000</td>\n      <td>11158457</td>\n      <td>1409517</td>\n      <td>150.1</td>\n    </tr>\n    <tr>\n      <th>EasternEurope</th>\n      <td>Ukraine</td>\n      <td>603500</td>\n      <td>90615</td>\n      <td>44223</td>\n      <td>123.3</td>\n    </tr>\n    <tr>\n      <th>Melanesia</th>\n      <td>Vanuatu</td>\n      <td>28896</td>\n      <td>1075</td>\n      <td>611</td>\n      <td>22.7</td>\n    </tr>\n    <tr>\n      <th>Micronesia</th>\n      <td>Guam</td>\n      <td>549</td>\n      <td>-99</td>\n      <td>164</td>\n      <td>304.1</td>\n    </tr>\n    <tr>\n      <th>MiddleAfrica</th>\n      <td>The Democratic Republic of the Congo</td>\n      <td>2344858</td>\n      <td>37569</td>\n      <td>81340</td>\n      <td>50.9</td>\n    </tr>\n    <tr>\n      <th>NorthernAfrica</th>\n      <td>Egypt</td>\n      <td>1002000</td>\n      <td>315917</td>\n      <td>97553</td>\n      <td>98.0</td>\n    </tr>\n    <tr>\n      <th>NorthernAmerica</th>\n      <td>United States</td>\n      <td>9833517</td>\n      <td>18036648</td>\n      <td>324460</td>\n      <td>35.5</td>\n    </tr>\n    <tr>\n      <th>Polynesia</th>\n      <td>Samoa</td>\n      <td>2842</td>\n      <td>774</td>\n      <td>196</td>\n      <td>69.4</td>\n    </tr>\n    <tr>\n      <th>South-easternAsia</th>\n      <td>Vietnam</td>\n      <td>1910931</td>\n      <td>861934</td>\n      <td>263991</td>\n      <td>351.9</td>\n    </tr>\n    <tr>\n      <th>SouthAmerica</th>\n      <td>Suriname</td>\n      <td>8515767</td>\n      <td>1772591</td>\n      <td>209288</td>\n      <td>66.9</td>\n    </tr>\n    <tr>\n      <th>SouthernAfrica</th>\n      <td>South Africa</td>\n      <td>1221037</td>\n      <td>314571</td>\n      <td>56717</td>\n      <td>73.6</td>\n    </tr>\n    <tr>\n      <th>SouthernAsia</th>\n      <td>Pakistan</td>\n      <td>3287263</td>\n      <td>2116239</td>\n      <td>1339180</td>\n      <td>450.4</td>\n    </tr>\n    <tr>\n      <th>SouthernEurope</th>\n      <td>Albania</td>\n      <td>28748</td>\n      <td>11541</td>\n      <td>2930</td>\n      <td>106.9</td>\n    </tr>\n    <tr>\n      <th>WesternAfrica</th>\n      <td>Togo</td>\n      <td>1240192</td>\n      <td>494583</td>\n      <td>190886</td>\n      <td>209.6</td>\n    </tr>\n    <tr>\n      <th>WesternAsia</th>\n      <td>Yemen</td>\n      <td>783562</td>\n      <td>717888</td>\n      <td>80745</td>\n      <td>817.4</td>\n    </tr>\n  </tbody>\n</table>\n</div>"
     },
     "metadata": {},
     "execution_count": 107
    }
   ],
   "source": [
    "# Get the max of each column in each region\n",
    "un_region.agg([get_max_alt])"
   ]
  },
  {
   "cell_type": "code",
   "execution_count": 127,
   "metadata": {},
   "outputs": [
    {
     "output_type": "execute_result",
     "data": {
      "text/plain": [
       "                   get_max_alt\n",
       "Region                        \n",
       "Caribbean                48671\n",
       "CentralAmerica         1964375\n",
       "CentralAsia             199949\n",
       "EasternAfrica           947303\n",
       "EasternAsia            9600000\n",
       "EasternEurope           603500\n",
       "Melanesia                28896\n",
       "Micronesia                 549\n",
       "MiddleAfrica           2344858\n",
       "NorthernAfrica         1002000\n",
       "NorthernAmerica        9833517\n",
       "Polynesia                 2842\n",
       "South-easternAsia      1910931\n",
       "SouthAmerica           8515767\n",
       "SouthernAfrica         1221037\n",
       "SouthernAsia           3287263\n",
       "SouthernEurope           28748\n",
       "WesternAfrica          1240192\n",
       "WesternAsia             783562"
      ],
      "text/html": "<div>\n<style scoped>\n    .dataframe tbody tr th:only-of-type {\n        vertical-align: middle;\n    }\n\n    .dataframe tbody tr th {\n        vertical-align: top;\n    }\n\n    .dataframe thead th {\n        text-align: right;\n    }\n</style>\n<table border=\"1\" class=\"dataframe\">\n  <thead>\n    <tr style=\"text-align: right;\">\n      <th></th>\n      <th>get_max_alt</th>\n    </tr>\n    <tr>\n      <th>Region</th>\n      <th></th>\n    </tr>\n  </thead>\n  <tbody>\n    <tr>\n      <th>Caribbean</th>\n      <td>48671</td>\n    </tr>\n    <tr>\n      <th>CentralAmerica</th>\n      <td>1964375</td>\n    </tr>\n    <tr>\n      <th>CentralAsia</th>\n      <td>199949</td>\n    </tr>\n    <tr>\n      <th>EasternAfrica</th>\n      <td>947303</td>\n    </tr>\n    <tr>\n      <th>EasternAsia</th>\n      <td>9600000</td>\n    </tr>\n    <tr>\n      <th>EasternEurope</th>\n      <td>603500</td>\n    </tr>\n    <tr>\n      <th>Melanesia</th>\n      <td>28896</td>\n    </tr>\n    <tr>\n      <th>Micronesia</th>\n      <td>549</td>\n    </tr>\n    <tr>\n      <th>MiddleAfrica</th>\n      <td>2344858</td>\n    </tr>\n    <tr>\n      <th>NorthernAfrica</th>\n      <td>1002000</td>\n    </tr>\n    <tr>\n      <th>NorthernAmerica</th>\n      <td>9833517</td>\n    </tr>\n    <tr>\n      <th>Polynesia</th>\n      <td>2842</td>\n    </tr>\n    <tr>\n      <th>South-easternAsia</th>\n      <td>1910931</td>\n    </tr>\n    <tr>\n      <th>SouthAmerica</th>\n      <td>8515767</td>\n    </tr>\n    <tr>\n      <th>SouthernAfrica</th>\n      <td>1221037</td>\n    </tr>\n    <tr>\n      <th>SouthernAsia</th>\n      <td>3287263</td>\n    </tr>\n    <tr>\n      <th>SouthernEurope</th>\n      <td>28748</td>\n    </tr>\n    <tr>\n      <th>WesternAfrica</th>\n      <td>1240192</td>\n    </tr>\n    <tr>\n      <th>WesternAsia</th>\n      <td>783562</td>\n    </tr>\n  </tbody>\n</table>\n</div>"
     },
     "metadata": {},
     "execution_count": 127
    }
   ],
   "source": [
    "# Select a single column\n",
    "un_region['surface_area'].agg([get_max_alt])"
   ]
  },
  {
   "cell_type": "code",
   "execution_count": 159,
   "metadata": {},
   "outputs": [
    {
     "output_type": "execute_result",
     "data": {
      "text/plain": [
       "               Region surface_area                   population\n",
       "                               sum          mean           mean\n",
       "0           Caribbean        86025  1.720500e+04    5125.200000\n",
       "1      CentralAmerica      2486556  3.108195e+05   22164.750000\n",
       "2         CentralAsia       342549  1.712745e+05    7483.000000\n",
       "3       EasternAfrica      5780005  4.816671e+05   25645.750000\n",
       "4         EasternAsia     11164116  5.582058e+06  706296.500000\n",
       "5       EasternEurope       637346  3.186730e+05   24137.000000\n",
       "6           Melanesia        41085  2.054250e+04     443.500000\n",
       "7          Micronesia          549  5.490000e+02     164.000000\n",
       "8        MiddleAfrica      3162508  1.054169e+06   36885.000000\n",
       "9      NorthernAfrica      1002000  1.002000e+06   97553.000000\n",
       "10    NorthernAmerica      9833517  9.833517e+06  324460.000000\n",
       "11          Polynesia         2842  2.842000e+03     196.000000\n",
       "12  South-easternAsia      4164349  5.205436e+05   76377.250000\n",
       "13       SouthAmerica     13625203  1.703150e+06   42953.250000\n",
       "14     SouthernAfrica      2075508  6.918360e+05   20494.666667\n",
       "15       SouthernAsia      4921797  9.843594e+05  320367.800000\n",
       "16     SouthernEurope        28748  2.874800e+04    2930.000000\n",
       "17      WesternAfrica      4580556  4.164142e+05   30298.545455\n",
       "18        WesternAsia      2060487  2.060487e+05   19296.700000"
      ],
      "text/html": "<div>\n<style scoped>\n    .dataframe tbody tr th:only-of-type {\n        vertical-align: middle;\n    }\n\n    .dataframe tbody tr th {\n        vertical-align: top;\n    }\n\n    .dataframe thead tr th {\n        text-align: left;\n    }\n</style>\n<table border=\"1\" class=\"dataframe\">\n  <thead>\n    <tr>\n      <th></th>\n      <th>Region</th>\n      <th colspan=\"2\" halign=\"left\">surface_area</th>\n      <th>population</th>\n    </tr>\n    <tr>\n      <th></th>\n      <th></th>\n      <th>sum</th>\n      <th>mean</th>\n      <th>mean</th>\n    </tr>\n  </thead>\n  <tbody>\n    <tr>\n      <th>0</th>\n      <td>Caribbean</td>\n      <td>86025</td>\n      <td>1.720500e+04</td>\n      <td>5125.200000</td>\n    </tr>\n    <tr>\n      <th>1</th>\n      <td>CentralAmerica</td>\n      <td>2486556</td>\n      <td>3.108195e+05</td>\n      <td>22164.750000</td>\n    </tr>\n    <tr>\n      <th>2</th>\n      <td>CentralAsia</td>\n      <td>342549</td>\n      <td>1.712745e+05</td>\n      <td>7483.000000</td>\n    </tr>\n    <tr>\n      <th>3</th>\n      <td>EasternAfrica</td>\n      <td>5780005</td>\n      <td>4.816671e+05</td>\n      <td>25645.750000</td>\n    </tr>\n    <tr>\n      <th>4</th>\n      <td>EasternAsia</td>\n      <td>11164116</td>\n      <td>5.582058e+06</td>\n      <td>706296.500000</td>\n    </tr>\n    <tr>\n      <th>5</th>\n      <td>EasternEurope</td>\n      <td>637346</td>\n      <td>3.186730e+05</td>\n      <td>24137.000000</td>\n    </tr>\n    <tr>\n      <th>6</th>\n      <td>Melanesia</td>\n      <td>41085</td>\n      <td>2.054250e+04</td>\n      <td>443.500000</td>\n    </tr>\n    <tr>\n      <th>7</th>\n      <td>Micronesia</td>\n      <td>549</td>\n      <td>5.490000e+02</td>\n      <td>164.000000</td>\n    </tr>\n    <tr>\n      <th>8</th>\n      <td>MiddleAfrica</td>\n      <td>3162508</td>\n      <td>1.054169e+06</td>\n      <td>36885.000000</td>\n    </tr>\n    <tr>\n      <th>9</th>\n      <td>NorthernAfrica</td>\n      <td>1002000</td>\n      <td>1.002000e+06</td>\n      <td>97553.000000</td>\n    </tr>\n    <tr>\n      <th>10</th>\n      <td>NorthernAmerica</td>\n      <td>9833517</td>\n      <td>9.833517e+06</td>\n      <td>324460.000000</td>\n    </tr>\n    <tr>\n      <th>11</th>\n      <td>Polynesia</td>\n      <td>2842</td>\n      <td>2.842000e+03</td>\n      <td>196.000000</td>\n    </tr>\n    <tr>\n      <th>12</th>\n      <td>South-easternAsia</td>\n      <td>4164349</td>\n      <td>5.205436e+05</td>\n      <td>76377.250000</td>\n    </tr>\n    <tr>\n      <th>13</th>\n      <td>SouthAmerica</td>\n      <td>13625203</td>\n      <td>1.703150e+06</td>\n      <td>42953.250000</td>\n    </tr>\n    <tr>\n      <th>14</th>\n      <td>SouthernAfrica</td>\n      <td>2075508</td>\n      <td>6.918360e+05</td>\n      <td>20494.666667</td>\n    </tr>\n    <tr>\n      <th>15</th>\n      <td>SouthernAsia</td>\n      <td>4921797</td>\n      <td>9.843594e+05</td>\n      <td>320367.800000</td>\n    </tr>\n    <tr>\n      <th>16</th>\n      <td>SouthernEurope</td>\n      <td>28748</td>\n      <td>2.874800e+04</td>\n      <td>2930.000000</td>\n    </tr>\n    <tr>\n      <th>17</th>\n      <td>WesternAfrica</td>\n      <td>4580556</td>\n      <td>4.164142e+05</td>\n      <td>30298.545455</td>\n    </tr>\n    <tr>\n      <th>18</th>\n      <td>WesternAsia</td>\n      <td>2060487</td>\n      <td>2.060487e+05</td>\n      <td>19296.700000</td>\n    </tr>\n  </tbody>\n</table>\n</div>"
     },
     "metadata": {},
     "execution_count": 159
    }
   ],
   "source": [
    "# Get sum and mean of surface area, mean of population for each region\n",
    "un_region.agg({'surface_area':['sum', 'mean'], 'population': 'mean'})"
   ]
  },
  {
   "cell_type": "code",
   "execution_count": 160,
   "metadata": {},
   "outputs": [
    {
     "output_type": "execute_result",
     "data": {
      "text/plain": [
       "               Region  sum_surface_area  mean_population\n",
       "0           Caribbean             86025      5125.200000\n",
       "1      CentralAmerica           2486556     22164.750000\n",
       "2         CentralAsia            342549      7483.000000\n",
       "3       EasternAfrica           5780005     25645.750000\n",
       "4         EasternAsia          11164116    706296.500000\n",
       "5       EasternEurope            637346     24137.000000\n",
       "6           Melanesia             41085       443.500000\n",
       "7          Micronesia               549       164.000000\n",
       "8        MiddleAfrica           3162508     36885.000000\n",
       "9      NorthernAfrica           1002000     97553.000000\n",
       "10    NorthernAmerica           9833517    324460.000000\n",
       "11          Polynesia              2842       196.000000\n",
       "12  South-easternAsia           4164349     76377.250000\n",
       "13       SouthAmerica          13625203     42953.250000\n",
       "14     SouthernAfrica           2075508     20494.666667\n",
       "15       SouthernAsia           4921797    320367.800000\n",
       "16     SouthernEurope             28748      2930.000000\n",
       "17      WesternAfrica           4580556     30298.545455\n",
       "18        WesternAsia           2060487     19296.700000"
      ],
      "text/html": "<div>\n<style scoped>\n    .dataframe tbody tr th:only-of-type {\n        vertical-align: middle;\n    }\n\n    .dataframe tbody tr th {\n        vertical-align: top;\n    }\n\n    .dataframe thead th {\n        text-align: right;\n    }\n</style>\n<table border=\"1\" class=\"dataframe\">\n  <thead>\n    <tr style=\"text-align: right;\">\n      <th></th>\n      <th>Region</th>\n      <th>sum_surface_area</th>\n      <th>mean_population</th>\n    </tr>\n  </thead>\n  <tbody>\n    <tr>\n      <th>0</th>\n      <td>Caribbean</td>\n      <td>86025</td>\n      <td>5125.200000</td>\n    </tr>\n    <tr>\n      <th>1</th>\n      <td>CentralAmerica</td>\n      <td>2486556</td>\n      <td>22164.750000</td>\n    </tr>\n    <tr>\n      <th>2</th>\n      <td>CentralAsia</td>\n      <td>342549</td>\n      <td>7483.000000</td>\n    </tr>\n    <tr>\n      <th>3</th>\n      <td>EasternAfrica</td>\n      <td>5780005</td>\n      <td>25645.750000</td>\n    </tr>\n    <tr>\n      <th>4</th>\n      <td>EasternAsia</td>\n      <td>11164116</td>\n      <td>706296.500000</td>\n    </tr>\n    <tr>\n      <th>5</th>\n      <td>EasternEurope</td>\n      <td>637346</td>\n      <td>24137.000000</td>\n    </tr>\n    <tr>\n      <th>6</th>\n      <td>Melanesia</td>\n      <td>41085</td>\n      <td>443.500000</td>\n    </tr>\n    <tr>\n      <th>7</th>\n      <td>Micronesia</td>\n      <td>549</td>\n      <td>164.000000</td>\n    </tr>\n    <tr>\n      <th>8</th>\n      <td>MiddleAfrica</td>\n      <td>3162508</td>\n      <td>36885.000000</td>\n    </tr>\n    <tr>\n      <th>9</th>\n      <td>NorthernAfrica</td>\n      <td>1002000</td>\n      <td>97553.000000</td>\n    </tr>\n    <tr>\n      <th>10</th>\n      <td>NorthernAmerica</td>\n      <td>9833517</td>\n      <td>324460.000000</td>\n    </tr>\n    <tr>\n      <th>11</th>\n      <td>Polynesia</td>\n      <td>2842</td>\n      <td>196.000000</td>\n    </tr>\n    <tr>\n      <th>12</th>\n      <td>South-easternAsia</td>\n      <td>4164349</td>\n      <td>76377.250000</td>\n    </tr>\n    <tr>\n      <th>13</th>\n      <td>SouthAmerica</td>\n      <td>13625203</td>\n      <td>42953.250000</td>\n    </tr>\n    <tr>\n      <th>14</th>\n      <td>SouthernAfrica</td>\n      <td>2075508</td>\n      <td>20494.666667</td>\n    </tr>\n    <tr>\n      <th>15</th>\n      <td>SouthernAsia</td>\n      <td>4921797</td>\n      <td>320367.800000</td>\n    </tr>\n    <tr>\n      <th>16</th>\n      <td>SouthernEurope</td>\n      <td>28748</td>\n      <td>2930.000000</td>\n    </tr>\n    <tr>\n      <th>17</th>\n      <td>WesternAfrica</td>\n      <td>4580556</td>\n      <td>30298.545455</td>\n    </tr>\n    <tr>\n      <th>18</th>\n      <td>WesternAsia</td>\n      <td>2060487</td>\n      <td>19296.700000</td>\n    </tr>\n  </tbody>\n</table>\n</div>"
     },
     "metadata": {},
     "execution_count": 160
    }
   ],
   "source": [
    "# Define custom column names\n",
    "un_region.agg(sum_surface_area=('surface_area','sum'), mean_population=('population', 'mean'))"
   ]
  },
  {
   "cell_type": "code",
   "execution_count": 167,
   "metadata": {},
   "outputs": [],
   "source": [
    "def inspect(df):\n",
    "    print(df['population_density'] > 100)"
   ]
  },
  {
   "cell_type": "code",
   "execution_count": 170,
   "metadata": {},
   "outputs": [
    {
     "output_type": "execute_result",
     "data": {
      "text/plain": [
       "                             country          Region  surface_area     gdp  \\\n",
       "1                            Albania  SouthernEurope         28748   11541   \n",
       "19                Dominican Republic       Caribbean         48671   67103   \n",
       "25                              Guam      Micronesia           549     -99   \n",
       "27                             Haiti       Caribbean         27750    8501   \n",
       "59                       Puerto Rico       Caribbean          8868  102906   \n",
       "61  Saint Vincent and the Grenadines       Caribbean           389     738   \n",
       "82                    Virgin Islands       Caribbean           347     -99   \n",
       "\n",
       "    population  population_density  \n",
       "1         2930               106.9  \n",
       "19       10767               222.8  \n",
       "25         164               304.1  \n",
       "27       10981               398.4  \n",
       "59        3663               413.0  \n",
       "61         110               281.8  \n",
       "82         105               299.7  "
      ],
      "text/html": "<div>\n<style scoped>\n    .dataframe tbody tr th:only-of-type {\n        vertical-align: middle;\n    }\n\n    .dataframe tbody tr th {\n        vertical-align: top;\n    }\n\n    .dataframe thead th {\n        text-align: right;\n    }\n</style>\n<table border=\"1\" class=\"dataframe\">\n  <thead>\n    <tr style=\"text-align: right;\">\n      <th></th>\n      <th>country</th>\n      <th>Region</th>\n      <th>surface_area</th>\n      <th>gdp</th>\n      <th>population</th>\n      <th>population_density</th>\n    </tr>\n  </thead>\n  <tbody>\n    <tr>\n      <th>1</th>\n      <td>Albania</td>\n      <td>SouthernEurope</td>\n      <td>28748</td>\n      <td>11541</td>\n      <td>2930</td>\n      <td>106.9</td>\n    </tr>\n    <tr>\n      <th>19</th>\n      <td>Dominican Republic</td>\n      <td>Caribbean</td>\n      <td>48671</td>\n      <td>67103</td>\n      <td>10767</td>\n      <td>222.8</td>\n    </tr>\n    <tr>\n      <th>25</th>\n      <td>Guam</td>\n      <td>Micronesia</td>\n      <td>549</td>\n      <td>-99</td>\n      <td>164</td>\n      <td>304.1</td>\n    </tr>\n    <tr>\n      <th>27</th>\n      <td>Haiti</td>\n      <td>Caribbean</td>\n      <td>27750</td>\n      <td>8501</td>\n      <td>10981</td>\n      <td>398.4</td>\n    </tr>\n    <tr>\n      <th>59</th>\n      <td>Puerto Rico</td>\n      <td>Caribbean</td>\n      <td>8868</td>\n      <td>102906</td>\n      <td>3663</td>\n      <td>413.0</td>\n    </tr>\n    <tr>\n      <th>61</th>\n      <td>Saint Vincent and the Grenadines</td>\n      <td>Caribbean</td>\n      <td>389</td>\n      <td>738</td>\n      <td>110</td>\n      <td>281.8</td>\n    </tr>\n    <tr>\n      <th>82</th>\n      <td>Virgin Islands</td>\n      <td>Caribbean</td>\n      <td>347</td>\n      <td>-99</td>\n      <td>105</td>\n      <td>299.7</td>\n    </tr>\n  </tbody>\n</table>\n</div>"
     },
     "metadata": {},
     "execution_count": 170
    }
   ],
   "source": [
    "# .filter()\n",
    "# https://pandas.pydata.org/pandas-docs/stable/reference/api/pandas.core.groupby.DataFrameGroupBy.filter.html\n",
    "# https://pandas.pydata.org/pandas-docs/stable/reference/groupby.html\n",
    "un_region.filter(lambda x: (x['population_density'] > 100).all())\n",
    "# un_region.filter(inspect)"
   ]
  },
  {
   "cell_type": "code",
   "execution_count": 97,
   "metadata": {},
   "outputs": [
    {
     "output_type": "execute_result",
     "data": {
      "text/plain": [
       "          country           Region  surface_area       gdp  population  \\\n",
       "10        Burundi    EasternAfrica         27830      2735       10864   \n",
       "21          Egypt   NorthernAfrica       1002000    315917       97553   \n",
       "34          Kenya    EasternAfrica        591958     63399       49700   \n",
       "40     Madagascar    EasternAfrica        587295      9739       25571   \n",
       "41         Malawi    EasternAfrica        118484      6420       18622   \n",
       "47     Mozambique    EasternAfrica        799380     14806       29669   \n",
       "60         Rwanda    EasternAfrica         26338      8096       12208   \n",
       "66        Somalia    EasternAfrica        637657      1559       14742   \n",
       "68    South Sudan    EasternAfrica        658841     13167       12576   \n",
       "71       Tanzania    EasternAfrica        947303     45628       57310   \n",
       "77         Uganda    EasternAfrica        241550     25282       42863   \n",
       "79  United States  NorthernAmerica       9833517  18036648      324460   \n",
       "84         Zambia    EasternAfrica        752612     21255       17094   \n",
       "85       Zimbabwe    EasternAfrica        390757     13893       16530   \n",
       "\n",
       "    population_density  \n",
       "10               423.1  \n",
       "21                98.0  \n",
       "34                87.3  \n",
       "40                44.0  \n",
       "41               197.5  \n",
       "47                37.7  \n",
       "60               494.9  \n",
       "66                23.5  \n",
       "68                20.6  \n",
       "71                64.7  \n",
       "77               214.5  \n",
       "79                35.5  \n",
       "84                23.0  \n",
       "85                42.7  "
      ],
      "text/html": "<div>\n<style scoped>\n    .dataframe tbody tr th:only-of-type {\n        vertical-align: middle;\n    }\n\n    .dataframe tbody tr th {\n        vertical-align: top;\n    }\n\n    .dataframe thead th {\n        text-align: right;\n    }\n</style>\n<table border=\"1\" class=\"dataframe\">\n  <thead>\n    <tr style=\"text-align: right;\">\n      <th></th>\n      <th>country</th>\n      <th>Region</th>\n      <th>surface_area</th>\n      <th>gdp</th>\n      <th>population</th>\n      <th>population_density</th>\n    </tr>\n  </thead>\n  <tbody>\n    <tr>\n      <th>10</th>\n      <td>Burundi</td>\n      <td>EasternAfrica</td>\n      <td>27830</td>\n      <td>2735</td>\n      <td>10864</td>\n      <td>423.1</td>\n    </tr>\n    <tr>\n      <th>21</th>\n      <td>Egypt</td>\n      <td>NorthernAfrica</td>\n      <td>1002000</td>\n      <td>315917</td>\n      <td>97553</td>\n      <td>98.0</td>\n    </tr>\n    <tr>\n      <th>34</th>\n      <td>Kenya</td>\n      <td>EasternAfrica</td>\n      <td>591958</td>\n      <td>63399</td>\n      <td>49700</td>\n      <td>87.3</td>\n    </tr>\n    <tr>\n      <th>40</th>\n      <td>Madagascar</td>\n      <td>EasternAfrica</td>\n      <td>587295</td>\n      <td>9739</td>\n      <td>25571</td>\n      <td>44.0</td>\n    </tr>\n    <tr>\n      <th>41</th>\n      <td>Malawi</td>\n      <td>EasternAfrica</td>\n      <td>118484</td>\n      <td>6420</td>\n      <td>18622</td>\n      <td>197.5</td>\n    </tr>\n    <tr>\n      <th>47</th>\n      <td>Mozambique</td>\n      <td>EasternAfrica</td>\n      <td>799380</td>\n      <td>14806</td>\n      <td>29669</td>\n      <td>37.7</td>\n    </tr>\n    <tr>\n      <th>60</th>\n      <td>Rwanda</td>\n      <td>EasternAfrica</td>\n      <td>26338</td>\n      <td>8096</td>\n      <td>12208</td>\n      <td>494.9</td>\n    </tr>\n    <tr>\n      <th>66</th>\n      <td>Somalia</td>\n      <td>EasternAfrica</td>\n      <td>637657</td>\n      <td>1559</td>\n      <td>14742</td>\n      <td>23.5</td>\n    </tr>\n    <tr>\n      <th>68</th>\n      <td>South Sudan</td>\n      <td>EasternAfrica</td>\n      <td>658841</td>\n      <td>13167</td>\n      <td>12576</td>\n      <td>20.6</td>\n    </tr>\n    <tr>\n      <th>71</th>\n      <td>Tanzania</td>\n      <td>EasternAfrica</td>\n      <td>947303</td>\n      <td>45628</td>\n      <td>57310</td>\n      <td>64.7</td>\n    </tr>\n    <tr>\n      <th>77</th>\n      <td>Uganda</td>\n      <td>EasternAfrica</td>\n      <td>241550</td>\n      <td>25282</td>\n      <td>42863</td>\n      <td>214.5</td>\n    </tr>\n    <tr>\n      <th>79</th>\n      <td>United States</td>\n      <td>NorthernAmerica</td>\n      <td>9833517</td>\n      <td>18036648</td>\n      <td>324460</td>\n      <td>35.5</td>\n    </tr>\n    <tr>\n      <th>84</th>\n      <td>Zambia</td>\n      <td>EasternAfrica</td>\n      <td>752612</td>\n      <td>21255</td>\n      <td>17094</td>\n      <td>23.0</td>\n    </tr>\n    <tr>\n      <th>85</th>\n      <td>Zimbabwe</td>\n      <td>EasternAfrica</td>\n      <td>390757</td>\n      <td>13893</td>\n      <td>16530</td>\n      <td>42.7</td>\n    </tr>\n  </tbody>\n</table>\n</div>"
     },
     "metadata": {},
     "execution_count": 97
    }
   ],
   "source": [
    "un_region.filter(lambda x: (x.population > 10000).all())"
   ]
  },
  {
   "source": [
    "### Exercise - Get standard deviation of gdp for each region using np.std for all regions with a population density over 100"
   ],
   "cell_type": "markdown",
   "metadata": {}
  },
  {
   "cell_type": "code",
   "execution_count": 196,
   "metadata": {},
   "outputs": [
    {
     "output_type": "execute_result",
     "data": {
      "text/plain": [
       "gdp    27227.285714\n",
       "dtype: float64"
      ]
     },
     "metadata": {},
     "execution_count": 196
    }
   ],
   "source": [
    "un_region.filter(lambda x: (x.population_density > 100).all()).agg({'gdp': np.mean})"
   ]
  },
  {
   "source": [
    "### Exercise - Generate corr plot for the UN data"
   ],
   "cell_type": "markdown",
   "metadata": {}
  },
  {
   "cell_type": "code",
   "execution_count": 200,
   "metadata": {},
   "outputs": [
    {
     "output_type": "display_data",
     "data": {
      "text/plain": "<Figure size 432x288 with 2 Axes>",
      "image/svg+xml": "<?xml version=\"1.0\" encoding=\"utf-8\" standalone=\"no\"?>\n<!DOCTYPE svg PUBLIC \"-//W3C//DTD SVG 1.1//EN\"\n  \"http://www.w3.org/Graphics/SVG/1.1/DTD/svg11.dtd\">\n<!-- Created with matplotlib (https://matplotlib.org/) -->\n<svg height=\"279.85pt\" version=\"1.1\" viewBox=\"0 0 385.270937 279.85\" width=\"385.270937pt\" xmlns=\"http://www.w3.org/2000/svg\" xmlns:xlink=\"http://www.w3.org/1999/xlink\">\n <metadata>\n  <rdf:RDF xmlns:cc=\"http://creativecommons.org/ns#\" xmlns:dc=\"http://purl.org/dc/elements/1.1/\" xmlns:rdf=\"http://www.w3.org/1999/02/22-rdf-syntax-ns#\">\n   <cc:Work>\n    <dc:type rdf:resource=\"http://purl.org/dc/dcmitype/StillImage\"/>\n    <dc:date>2021-02-09T09:10:20.788735</dc:date>\n    <dc:format>image/svg+xml</dc:format>\n    <dc:creator>\n     <cc:Agent>\n      <dc:title>Matplotlib v3.3.3, https://matplotlib.org/</dc:title>\n     </cc:Agent>\n    </dc:creator>\n   </cc:Work>\n  </rdf:RDF>\n </metadata>\n <defs>\n  <style type=\"text/css\">*{stroke-linecap:butt;stroke-linejoin:round;}</style>\n </defs>\n <g id=\"figure_1\">\n  <g id=\"patch_1\">\n   <path d=\"M 0 279.85 \nL 385.270937 279.85 \nL 385.270937 0 \nL 0 0 \nz\n\" style=\"fill:none;\"/>\n  </g>\n  <g id=\"axes_1\">\n   <g id=\"patch_2\">\n    <path d=\"M 78.453125 269.15 \nL 323.446875 269.15 \nL 323.446875 24.15625 \nL 78.453125 24.15625 \nz\n\" style=\"fill:#ffffff;\"/>\n   </g>\n   <g clip-path=\"url(#pc4cf47feb2)\">\n    <image height=\"245\" id=\"image1aa3bab4a3\" transform=\"scale(1 -1)translate(0 -245)\" width=\"245\" x=\"78.453125\" xlink:href=\"data:image/png;base64,\niVBORw0KGgoAAAANSUhEUgAAAPUAAAD1CAYAAACIsbNlAAADYUlEQVR4nO3VIU4cYBhFUWhGI0irGFMBSRdQSVWXUEcyFsF6EFj2gWlNk+4A7KBKKtBNYBPk/5LLOSt45uYdfj/88XLwzmy2J9MTlnv+up2eMOLX9c30hOU+TA8A3paoIUbUECNqiBE1xIgaYkQNMaKGGFFDjKghRtQQI2qIETXEiBpiRA0xooYYUUOMqCFG1BAjaogRNcSIGmJEDTGihhhRQ4yoIUbUECNqiBE1xIgaYkQNMaKGGFFDjKghRtQQI2qIETXEiBpiRA0xooYYUUOMqCFG1BAjaogRNcSIGmJEDTGihhhRQ4yoIUbUECNqiBE1xIgaYkQNMaKGGFFDjKghRtQQI2qI2Rzcbac3LPfw93h6wnL3326mJ4w4v7qcnrCcp4YYUUOMqCFG1BAjaogRNcSIGmJEDTGihhhRQ4yoIUbUECNqiBE1xIgaYkQNMaKGGFFDjKghRtQQI2qIETXEiBpiRA0xooYYUUOMqCFG1BAjaogRNcSIGmJEDTGihhhRQ4yoIUbUECNqiBE1xIgaYkQNMaKGGFFDjKghRtQQI2qIETXEiBpiRA0xooYYUUOMqCFG1BAjaogRNcSIGmJEDTGihhhRQ4yoIUbUECNqiNlcnPye3rDc7svT9ITlzn7upieMOP2zn56wnKeGGFFDjKghRtQQI2qIETXEiBpiRA0xooYYUUOMqCFG1BAjaogRNcSIGmJEDTGihhhRQ4yoIUbUECNqiBE1xIgaYkQNMaKGGFFDjKghRtQQI2qIETXEiBpiRA0xooYYUUOMqCFG1BAjaogRNcSIGmJEDTGihhhRQ4yoIUbUECNqiBE1xIgaYkQNMaKGGFFDjKghRtQQI2qIETXEiBpiRA0xooYYUUOMqCFG1BCz2R09TW9Y7vb54/SE5T5/+jc9YcT//eP0hOU8NcSIGmJEDTGihhhRQ4yoIUbUECNqiBE1xIgaYkQNMaKGGFFDjKghRtQQI2qIETXEiBpiRA0xooYYUUOMqCFG1BAjaogRNcSIGmJEDTGihhhRQ4yoIUbUECNqiBE1xIgaYkQNMaKGGFFDjKghRtQQI2qIETXEiBpiRA0xooYYUUOMqCFG1BAjaogRNcSIGmJEDTGihhhRQ4yoIUbUECNqiBE1xIgaYkQNMaKGmFdAahkcOCXlrQAAAABJRU5ErkJggg==\" y=\"-24.15\"/>\n   </g>\n   <g id=\"matplotlib.axis_1\">\n    <g id=\"xtick_1\">\n     <g id=\"line2d_1\">\n      <defs>\n       <path d=\"M 0 0 \nL 0 3.5 \n\" id=\"m35bf3dcfc8\" style=\"stroke:#000000;stroke-width:0.8;\"/>\n      </defs>\n      <g>\n       <use style=\"stroke:#000000;stroke-width:0.8;\" x=\"109.077344\" xlink:href=\"#m35bf3dcfc8\" y=\"269.15\"/>\n      </g>\n     </g>\n     <g id=\"line2d_2\">\n      <defs>\n       <path d=\"M 0 0 \nL 0 -3.5 \n\" id=\"m0874f13c69\" style=\"stroke:#000000;stroke-width:0.8;\"/>\n      </defs>\n      <g>\n       <use style=\"stroke:#000000;stroke-width:0.8;\" x=\"109.077344\" xlink:href=\"#m0874f13c69\" y=\"24.15625\"/>\n      </g>\n     </g>\n     <g id=\"text_1\">\n      <!-- Region -->\n      <g transform=\"translate(91.960156 15.076563)scale(0.1 -0.1)\">\n       <defs>\n        <path d=\"M 44.390625 34.1875 \nQ 47.5625 33.109375 50.5625 29.59375 \nQ 53.5625 26.078125 56.59375 19.921875 \nL 66.609375 0 \nL 56 0 \nL 46.6875 18.703125 \nQ 43.0625 26.03125 39.671875 28.421875 \nQ 36.28125 30.8125 30.421875 30.8125 \nL 19.671875 30.8125 \nL 19.671875 0 \nL 9.8125 0 \nL 9.8125 72.90625 \nL 32.078125 72.90625 \nQ 44.578125 72.90625 50.734375 67.671875 \nQ 56.890625 62.453125 56.890625 51.90625 \nQ 56.890625 45.015625 53.6875 40.46875 \nQ 50.484375 35.9375 44.390625 34.1875 \nz\nM 19.671875 64.796875 \nL 19.671875 38.921875 \nL 32.078125 38.921875 \nQ 39.203125 38.921875 42.84375 42.21875 \nQ 46.484375 45.515625 46.484375 51.90625 \nQ 46.484375 58.296875 42.84375 61.546875 \nQ 39.203125 64.796875 32.078125 64.796875 \nz\n\" id=\"DejaVuSans-82\"/>\n        <path d=\"M 56.203125 29.59375 \nL 56.203125 25.203125 \nL 14.890625 25.203125 \nQ 15.484375 15.921875 20.484375 11.0625 \nQ 25.484375 6.203125 34.421875 6.203125 \nQ 39.59375 6.203125 44.453125 7.46875 \nQ 49.3125 8.734375 54.109375 11.28125 \nL 54.109375 2.78125 \nQ 49.265625 0.734375 44.1875 -0.34375 \nQ 39.109375 -1.421875 33.890625 -1.421875 \nQ 20.796875 -1.421875 13.15625 6.1875 \nQ 5.515625 13.8125 5.515625 26.8125 \nQ 5.515625 40.234375 12.765625 48.109375 \nQ 20.015625 56 32.328125 56 \nQ 43.359375 56 49.78125 48.890625 \nQ 56.203125 41.796875 56.203125 29.59375 \nz\nM 47.21875 32.234375 \nQ 47.125 39.59375 43.09375 43.984375 \nQ 39.0625 48.390625 32.421875 48.390625 \nQ 24.90625 48.390625 20.390625 44.140625 \nQ 15.875 39.890625 15.1875 32.171875 \nz\n\" id=\"DejaVuSans-101\"/>\n        <path d=\"M 45.40625 27.984375 \nQ 45.40625 37.75 41.375 43.109375 \nQ 37.359375 48.484375 30.078125 48.484375 \nQ 22.859375 48.484375 18.828125 43.109375 \nQ 14.796875 37.75 14.796875 27.984375 \nQ 14.796875 18.265625 18.828125 12.890625 \nQ 22.859375 7.515625 30.078125 7.515625 \nQ 37.359375 7.515625 41.375 12.890625 \nQ 45.40625 18.265625 45.40625 27.984375 \nz\nM 54.390625 6.78125 \nQ 54.390625 -7.171875 48.1875 -13.984375 \nQ 42 -20.796875 29.203125 -20.796875 \nQ 24.46875 -20.796875 20.265625 -20.09375 \nQ 16.0625 -19.390625 12.109375 -17.921875 \nL 12.109375 -9.1875 \nQ 16.0625 -11.328125 19.921875 -12.34375 \nQ 23.78125 -13.375 27.78125 -13.375 \nQ 36.625 -13.375 41.015625 -8.765625 \nQ 45.40625 -4.15625 45.40625 5.171875 \nL 45.40625 9.625 \nQ 42.625 4.78125 38.28125 2.390625 \nQ 33.9375 0 27.875 0 \nQ 17.828125 0 11.671875 7.65625 \nQ 5.515625 15.328125 5.515625 27.984375 \nQ 5.515625 40.671875 11.671875 48.328125 \nQ 17.828125 56 27.875 56 \nQ 33.9375 56 38.28125 53.609375 \nQ 42.625 51.21875 45.40625 46.390625 \nL 45.40625 54.6875 \nL 54.390625 54.6875 \nz\n\" id=\"DejaVuSans-103\"/>\n        <path d=\"M 9.421875 54.6875 \nL 18.40625 54.6875 \nL 18.40625 0 \nL 9.421875 0 \nz\nM 9.421875 75.984375 \nL 18.40625 75.984375 \nL 18.40625 64.59375 \nL 9.421875 64.59375 \nz\n\" id=\"DejaVuSans-105\"/>\n        <path d=\"M 30.609375 48.390625 \nQ 23.390625 48.390625 19.1875 42.75 \nQ 14.984375 37.109375 14.984375 27.296875 \nQ 14.984375 17.484375 19.15625 11.84375 \nQ 23.34375 6.203125 30.609375 6.203125 \nQ 37.796875 6.203125 41.984375 11.859375 \nQ 46.1875 17.53125 46.1875 27.296875 \nQ 46.1875 37.015625 41.984375 42.703125 \nQ 37.796875 48.390625 30.609375 48.390625 \nz\nM 30.609375 56 \nQ 42.328125 56 49.015625 48.375 \nQ 55.71875 40.765625 55.71875 27.296875 \nQ 55.71875 13.875 49.015625 6.21875 \nQ 42.328125 -1.421875 30.609375 -1.421875 \nQ 18.84375 -1.421875 12.171875 6.21875 \nQ 5.515625 13.875 5.515625 27.296875 \nQ 5.515625 40.765625 12.171875 48.375 \nQ 18.84375 56 30.609375 56 \nz\n\" id=\"DejaVuSans-111\"/>\n        <path d=\"M 54.890625 33.015625 \nL 54.890625 0 \nL 45.90625 0 \nL 45.90625 32.71875 \nQ 45.90625 40.484375 42.875 44.328125 \nQ 39.84375 48.1875 33.796875 48.1875 \nQ 26.515625 48.1875 22.3125 43.546875 \nQ 18.109375 38.921875 18.109375 30.90625 \nL 18.109375 0 \nL 9.078125 0 \nL 9.078125 54.6875 \nL 18.109375 54.6875 \nL 18.109375 46.1875 \nQ 21.34375 51.125 25.703125 53.5625 \nQ 30.078125 56 35.796875 56 \nQ 45.21875 56 50.046875 50.171875 \nQ 54.890625 44.34375 54.890625 33.015625 \nz\n\" id=\"DejaVuSans-110\"/>\n       </defs>\n       <use xlink:href=\"#DejaVuSans-82\"/>\n       <use x=\"64.982422\" xlink:href=\"#DejaVuSans-101\"/>\n       <use x=\"126.505859\" xlink:href=\"#DejaVuSans-103\"/>\n       <use x=\"189.982422\" xlink:href=\"#DejaVuSans-105\"/>\n       <use x=\"217.765625\" xlink:href=\"#DejaVuSans-111\"/>\n       <use x=\"278.947266\" xlink:href=\"#DejaVuSans-110\"/>\n      </g>\n     </g>\n    </g>\n    <g id=\"xtick_2\">\n     <g id=\"line2d_3\">\n      <g>\n       <use style=\"stroke:#000000;stroke-width:0.8;\" x=\"170.325781\" xlink:href=\"#m35bf3dcfc8\" y=\"269.15\"/>\n      </g>\n     </g>\n     <g id=\"line2d_4\">\n      <g>\n       <use style=\"stroke:#000000;stroke-width:0.8;\" x=\"170.325781\" xlink:href=\"#m0874f13c69\" y=\"24.15625\"/>\n      </g>\n     </g>\n     <g id=\"text_2\">\n      <!-- surface_area -->\n      <g transform=\"translate(138.199219 14.798438)scale(0.1 -0.1)\">\n       <defs>\n        <path d=\"M 44.28125 53.078125 \nL 44.28125 44.578125 \nQ 40.484375 46.53125 36.375 47.5 \nQ 32.28125 48.484375 27.875 48.484375 \nQ 21.1875 48.484375 17.84375 46.4375 \nQ 14.5 44.390625 14.5 40.28125 \nQ 14.5 37.15625 16.890625 35.375 \nQ 19.28125 33.59375 26.515625 31.984375 \nL 29.59375 31.296875 \nQ 39.15625 29.25 43.1875 25.515625 \nQ 47.21875 21.78125 47.21875 15.09375 \nQ 47.21875 7.46875 41.1875 3.015625 \nQ 35.15625 -1.421875 24.609375 -1.421875 \nQ 20.21875 -1.421875 15.453125 -0.5625 \nQ 10.6875 0.296875 5.421875 2 \nL 5.421875 11.28125 \nQ 10.40625 8.6875 15.234375 7.390625 \nQ 20.0625 6.109375 24.8125 6.109375 \nQ 31.15625 6.109375 34.5625 8.28125 \nQ 37.984375 10.453125 37.984375 14.40625 \nQ 37.984375 18.0625 35.515625 20.015625 \nQ 33.0625 21.96875 24.703125 23.78125 \nL 21.578125 24.515625 \nQ 13.234375 26.265625 9.515625 29.90625 \nQ 5.8125 33.546875 5.8125 39.890625 \nQ 5.8125 47.609375 11.28125 51.796875 \nQ 16.75 56 26.8125 56 \nQ 31.78125 56 36.171875 55.265625 \nQ 40.578125 54.546875 44.28125 53.078125 \nz\n\" id=\"DejaVuSans-115\"/>\n        <path d=\"M 8.5 21.578125 \nL 8.5 54.6875 \nL 17.484375 54.6875 \nL 17.484375 21.921875 \nQ 17.484375 14.15625 20.5 10.265625 \nQ 23.53125 6.390625 29.59375 6.390625 \nQ 36.859375 6.390625 41.078125 11.03125 \nQ 45.3125 15.671875 45.3125 23.6875 \nL 45.3125 54.6875 \nL 54.296875 54.6875 \nL 54.296875 0 \nL 45.3125 0 \nL 45.3125 8.40625 \nQ 42.046875 3.421875 37.71875 1 \nQ 33.40625 -1.421875 27.6875 -1.421875 \nQ 18.265625 -1.421875 13.375 4.4375 \nQ 8.5 10.296875 8.5 21.578125 \nz\nM 31.109375 56 \nz\n\" id=\"DejaVuSans-117\"/>\n        <path d=\"M 41.109375 46.296875 \nQ 39.59375 47.171875 37.8125 47.578125 \nQ 36.03125 48 33.890625 48 \nQ 26.265625 48 22.1875 43.046875 \nQ 18.109375 38.09375 18.109375 28.8125 \nL 18.109375 0 \nL 9.078125 0 \nL 9.078125 54.6875 \nL 18.109375 54.6875 \nL 18.109375 46.1875 \nQ 20.953125 51.171875 25.484375 53.578125 \nQ 30.03125 56 36.53125 56 \nQ 37.453125 56 38.578125 55.875 \nQ 39.703125 55.765625 41.0625 55.515625 \nz\n\" id=\"DejaVuSans-114\"/>\n        <path d=\"M 37.109375 75.984375 \nL 37.109375 68.5 \nL 28.515625 68.5 \nQ 23.6875 68.5 21.796875 66.546875 \nQ 19.921875 64.59375 19.921875 59.515625 \nL 19.921875 54.6875 \nL 34.71875 54.6875 \nL 34.71875 47.703125 \nL 19.921875 47.703125 \nL 19.921875 0 \nL 10.890625 0 \nL 10.890625 47.703125 \nL 2.296875 47.703125 \nL 2.296875 54.6875 \nL 10.890625 54.6875 \nL 10.890625 58.5 \nQ 10.890625 67.625 15.140625 71.796875 \nQ 19.390625 75.984375 28.609375 75.984375 \nz\n\" id=\"DejaVuSans-102\"/>\n        <path d=\"M 34.28125 27.484375 \nQ 23.390625 27.484375 19.1875 25 \nQ 14.984375 22.515625 14.984375 16.5 \nQ 14.984375 11.71875 18.140625 8.90625 \nQ 21.296875 6.109375 26.703125 6.109375 \nQ 34.1875 6.109375 38.703125 11.40625 \nQ 43.21875 16.703125 43.21875 25.484375 \nL 43.21875 27.484375 \nz\nM 52.203125 31.203125 \nL 52.203125 0 \nL 43.21875 0 \nL 43.21875 8.296875 \nQ 40.140625 3.328125 35.546875 0.953125 \nQ 30.953125 -1.421875 24.3125 -1.421875 \nQ 15.921875 -1.421875 10.953125 3.296875 \nQ 6 8.015625 6 15.921875 \nQ 6 25.140625 12.171875 29.828125 \nQ 18.359375 34.515625 30.609375 34.515625 \nL 43.21875 34.515625 \nL 43.21875 35.40625 \nQ 43.21875 41.609375 39.140625 45 \nQ 35.0625 48.390625 27.6875 48.390625 \nQ 23 48.390625 18.546875 47.265625 \nQ 14.109375 46.140625 10.015625 43.890625 \nL 10.015625 52.203125 \nQ 14.9375 54.109375 19.578125 55.046875 \nQ 24.21875 56 28.609375 56 \nQ 40.484375 56 46.34375 49.84375 \nQ 52.203125 43.703125 52.203125 31.203125 \nz\n\" id=\"DejaVuSans-97\"/>\n        <path d=\"M 48.78125 52.59375 \nL 48.78125 44.1875 \nQ 44.96875 46.296875 41.140625 47.34375 \nQ 37.3125 48.390625 33.40625 48.390625 \nQ 24.65625 48.390625 19.8125 42.84375 \nQ 14.984375 37.3125 14.984375 27.296875 \nQ 14.984375 17.28125 19.8125 11.734375 \nQ 24.65625 6.203125 33.40625 6.203125 \nQ 37.3125 6.203125 41.140625 7.25 \nQ 44.96875 8.296875 48.78125 10.40625 \nL 48.78125 2.09375 \nQ 45.015625 0.34375 40.984375 -0.53125 \nQ 36.96875 -1.421875 32.421875 -1.421875 \nQ 20.0625 -1.421875 12.78125 6.34375 \nQ 5.515625 14.109375 5.515625 27.296875 \nQ 5.515625 40.671875 12.859375 48.328125 \nQ 20.21875 56 33.015625 56 \nQ 37.15625 56 41.109375 55.140625 \nQ 45.0625 54.296875 48.78125 52.59375 \nz\n\" id=\"DejaVuSans-99\"/>\n        <path d=\"M 50.984375 -16.609375 \nL 50.984375 -23.578125 \nL -0.984375 -23.578125 \nL -0.984375 -16.609375 \nz\n\" id=\"DejaVuSans-95\"/>\n       </defs>\n       <use xlink:href=\"#DejaVuSans-115\"/>\n       <use x=\"52.099609\" xlink:href=\"#DejaVuSans-117\"/>\n       <use x=\"115.478516\" xlink:href=\"#DejaVuSans-114\"/>\n       <use x=\"156.591797\" xlink:href=\"#DejaVuSans-102\"/>\n       <use x=\"191.796875\" xlink:href=\"#DejaVuSans-97\"/>\n       <use x=\"253.076172\" xlink:href=\"#DejaVuSans-99\"/>\n       <use x=\"308.056641\" xlink:href=\"#DejaVuSans-101\"/>\n       <use x=\"369.580078\" xlink:href=\"#DejaVuSans-95\"/>\n       <use x=\"419.580078\" xlink:href=\"#DejaVuSans-97\"/>\n       <use x=\"480.859375\" xlink:href=\"#DejaVuSans-114\"/>\n       <use x=\"519.722656\" xlink:href=\"#DejaVuSans-101\"/>\n       <use x=\"581.246094\" xlink:href=\"#DejaVuSans-97\"/>\n      </g>\n     </g>\n    </g>\n    <g id=\"xtick_3\">\n     <g id=\"line2d_5\">\n      <g>\n       <use style=\"stroke:#000000;stroke-width:0.8;\" x=\"231.574219\" xlink:href=\"#m35bf3dcfc8\" y=\"269.15\"/>\n      </g>\n     </g>\n     <g id=\"line2d_6\">\n      <g>\n       <use style=\"stroke:#000000;stroke-width:0.8;\" x=\"231.574219\" xlink:href=\"#m0874f13c69\" y=\"24.15625\"/>\n      </g>\n     </g>\n     <g id=\"text_3\">\n      <!-- gdp -->\n      <g transform=\"translate(222.051562 15.076563)scale(0.1 -0.1)\">\n       <defs>\n        <path d=\"M 45.40625 46.390625 \nL 45.40625 75.984375 \nL 54.390625 75.984375 \nL 54.390625 0 \nL 45.40625 0 \nL 45.40625 8.203125 \nQ 42.578125 3.328125 38.25 0.953125 \nQ 33.9375 -1.421875 27.875 -1.421875 \nQ 17.96875 -1.421875 11.734375 6.484375 \nQ 5.515625 14.40625 5.515625 27.296875 \nQ 5.515625 40.1875 11.734375 48.09375 \nQ 17.96875 56 27.875 56 \nQ 33.9375 56 38.25 53.625 \nQ 42.578125 51.265625 45.40625 46.390625 \nz\nM 14.796875 27.296875 \nQ 14.796875 17.390625 18.875 11.75 \nQ 22.953125 6.109375 30.078125 6.109375 \nQ 37.203125 6.109375 41.296875 11.75 \nQ 45.40625 17.390625 45.40625 27.296875 \nQ 45.40625 37.203125 41.296875 42.84375 \nQ 37.203125 48.484375 30.078125 48.484375 \nQ 22.953125 48.484375 18.875 42.84375 \nQ 14.796875 37.203125 14.796875 27.296875 \nz\n\" id=\"DejaVuSans-100\"/>\n        <path d=\"M 18.109375 8.203125 \nL 18.109375 -20.796875 \nL 9.078125 -20.796875 \nL 9.078125 54.6875 \nL 18.109375 54.6875 \nL 18.109375 46.390625 \nQ 20.953125 51.265625 25.265625 53.625 \nQ 29.59375 56 35.59375 56 \nQ 45.5625 56 51.78125 48.09375 \nQ 58.015625 40.1875 58.015625 27.296875 \nQ 58.015625 14.40625 51.78125 6.484375 \nQ 45.5625 -1.421875 35.59375 -1.421875 \nQ 29.59375 -1.421875 25.265625 0.953125 \nQ 20.953125 3.328125 18.109375 8.203125 \nz\nM 48.6875 27.296875 \nQ 48.6875 37.203125 44.609375 42.84375 \nQ 40.53125 48.484375 33.40625 48.484375 \nQ 26.265625 48.484375 22.1875 42.84375 \nQ 18.109375 37.203125 18.109375 27.296875 \nQ 18.109375 17.390625 22.1875 11.75 \nQ 26.265625 6.109375 33.40625 6.109375 \nQ 40.53125 6.109375 44.609375 11.75 \nQ 48.6875 17.390625 48.6875 27.296875 \nz\n\" id=\"DejaVuSans-112\"/>\n       </defs>\n       <use xlink:href=\"#DejaVuSans-103\"/>\n       <use x=\"63.476562\" xlink:href=\"#DejaVuSans-100\"/>\n       <use x=\"126.953125\" xlink:href=\"#DejaVuSans-112\"/>\n      </g>\n     </g>\n    </g>\n    <g id=\"xtick_4\">\n     <g id=\"line2d_7\">\n      <g>\n       <use style=\"stroke:#000000;stroke-width:0.8;\" x=\"292.822656\" xlink:href=\"#m35bf3dcfc8\" y=\"269.15\"/>\n      </g>\n     </g>\n     <g id=\"line2d_8\">\n      <g>\n       <use style=\"stroke:#000000;stroke-width:0.8;\" x=\"292.822656\" xlink:href=\"#m0874f13c69\" y=\"24.15625\"/>\n      </g>\n     </g>\n     <g id=\"text_4\">\n      <!-- population -->\n      <g transform=\"translate(266.215625 15.076563)scale(0.1 -0.1)\">\n       <defs>\n        <path d=\"M 9.421875 75.984375 \nL 18.40625 75.984375 \nL 18.40625 0 \nL 9.421875 0 \nz\n\" id=\"DejaVuSans-108\"/>\n        <path d=\"M 18.3125 70.21875 \nL 18.3125 54.6875 \nL 36.8125 54.6875 \nL 36.8125 47.703125 \nL 18.3125 47.703125 \nL 18.3125 18.015625 \nQ 18.3125 11.328125 20.140625 9.421875 \nQ 21.96875 7.515625 27.59375 7.515625 \nL 36.8125 7.515625 \nL 36.8125 0 \nL 27.59375 0 \nQ 17.1875 0 13.234375 3.875 \nQ 9.28125 7.765625 9.28125 18.015625 \nL 9.28125 47.703125 \nL 2.6875 47.703125 \nL 2.6875 54.6875 \nL 9.28125 54.6875 \nL 9.28125 70.21875 \nz\n\" id=\"DejaVuSans-116\"/>\n       </defs>\n       <use xlink:href=\"#DejaVuSans-112\"/>\n       <use x=\"63.476562\" xlink:href=\"#DejaVuSans-111\"/>\n       <use x=\"124.658203\" xlink:href=\"#DejaVuSans-112\"/>\n       <use x=\"188.134766\" xlink:href=\"#DejaVuSans-117\"/>\n       <use x=\"251.513672\" xlink:href=\"#DejaVuSans-108\"/>\n       <use x=\"279.296875\" xlink:href=\"#DejaVuSans-97\"/>\n       <use x=\"340.576172\" xlink:href=\"#DejaVuSans-116\"/>\n       <use x=\"379.785156\" xlink:href=\"#DejaVuSans-105\"/>\n       <use x=\"407.568359\" xlink:href=\"#DejaVuSans-111\"/>\n       <use x=\"468.75\" xlink:href=\"#DejaVuSans-110\"/>\n      </g>\n     </g>\n    </g>\n   </g>\n   <g id=\"matplotlib.axis_2\">\n    <g id=\"ytick_1\">\n     <g id=\"line2d_9\">\n      <defs>\n       <path d=\"M 0 0 \nL -3.5 0 \n\" id=\"mbd5b0c2bc0\" style=\"stroke:#000000;stroke-width:0.8;\"/>\n      </defs>\n      <g>\n       <use style=\"stroke:#000000;stroke-width:0.8;\" x=\"78.453125\" xlink:href=\"#mbd5b0c2bc0\" y=\"54.780469\"/>\n      </g>\n     </g>\n     <g id=\"text_5\">\n      <!-- Region -->\n      <g transform=\"translate(37.21875 58.579688)scale(0.1 -0.1)\">\n       <use xlink:href=\"#DejaVuSans-82\"/>\n       <use x=\"64.982422\" xlink:href=\"#DejaVuSans-101\"/>\n       <use x=\"126.505859\" xlink:href=\"#DejaVuSans-103\"/>\n       <use x=\"189.982422\" xlink:href=\"#DejaVuSans-105\"/>\n       <use x=\"217.765625\" xlink:href=\"#DejaVuSans-111\"/>\n       <use x=\"278.947266\" xlink:href=\"#DejaVuSans-110\"/>\n      </g>\n     </g>\n    </g>\n    <g id=\"ytick_2\">\n     <g id=\"line2d_10\">\n      <g>\n       <use style=\"stroke:#000000;stroke-width:0.8;\" x=\"78.453125\" xlink:href=\"#mbd5b0c2bc0\" y=\"116.028906\"/>\n      </g>\n     </g>\n     <g id=\"text_6\">\n      <!-- surface_area -->\n      <g transform=\"translate(7.2 119.828125)scale(0.1 -0.1)\">\n       <use xlink:href=\"#DejaVuSans-115\"/>\n       <use x=\"52.099609\" xlink:href=\"#DejaVuSans-117\"/>\n       <use x=\"115.478516\" xlink:href=\"#DejaVuSans-114\"/>\n       <use x=\"156.591797\" xlink:href=\"#DejaVuSans-102\"/>\n       <use x=\"191.796875\" xlink:href=\"#DejaVuSans-97\"/>\n       <use x=\"253.076172\" xlink:href=\"#DejaVuSans-99\"/>\n       <use x=\"308.056641\" xlink:href=\"#DejaVuSans-101\"/>\n       <use x=\"369.580078\" xlink:href=\"#DejaVuSans-95\"/>\n       <use x=\"419.580078\" xlink:href=\"#DejaVuSans-97\"/>\n       <use x=\"480.859375\" xlink:href=\"#DejaVuSans-114\"/>\n       <use x=\"519.722656\" xlink:href=\"#DejaVuSans-101\"/>\n       <use x=\"581.246094\" xlink:href=\"#DejaVuSans-97\"/>\n      </g>\n     </g>\n    </g>\n    <g id=\"ytick_3\">\n     <g id=\"line2d_11\">\n      <g>\n       <use style=\"stroke:#000000;stroke-width:0.8;\" x=\"78.453125\" xlink:href=\"#mbd5b0c2bc0\" y=\"177.277344\"/>\n      </g>\n     </g>\n     <g id=\"text_7\">\n      <!-- gdp -->\n      <g transform=\"translate(52.407812 181.076563)scale(0.1 -0.1)\">\n       <use xlink:href=\"#DejaVuSans-103\"/>\n       <use x=\"63.476562\" xlink:href=\"#DejaVuSans-100\"/>\n       <use x=\"126.953125\" xlink:href=\"#DejaVuSans-112\"/>\n      </g>\n     </g>\n    </g>\n    <g id=\"ytick_4\">\n     <g id=\"line2d_12\">\n      <g>\n       <use style=\"stroke:#000000;stroke-width:0.8;\" x=\"78.453125\" xlink:href=\"#mbd5b0c2bc0\" y=\"238.525781\"/>\n      </g>\n     </g>\n     <g id=\"text_8\">\n      <!-- population -->\n      <g transform=\"translate(18.239062 242.325)scale(0.1 -0.1)\">\n       <use xlink:href=\"#DejaVuSans-112\"/>\n       <use x=\"63.476562\" xlink:href=\"#DejaVuSans-111\"/>\n       <use x=\"124.658203\" xlink:href=\"#DejaVuSans-112\"/>\n       <use x=\"188.134766\" xlink:href=\"#DejaVuSans-117\"/>\n       <use x=\"251.513672\" xlink:href=\"#DejaVuSans-108\"/>\n       <use x=\"279.296875\" xlink:href=\"#DejaVuSans-97\"/>\n       <use x=\"340.576172\" xlink:href=\"#DejaVuSans-116\"/>\n       <use x=\"379.785156\" xlink:href=\"#DejaVuSans-105\"/>\n       <use x=\"407.568359\" xlink:href=\"#DejaVuSans-111\"/>\n       <use x=\"468.75\" xlink:href=\"#DejaVuSans-110\"/>\n      </g>\n     </g>\n    </g>\n   </g>\n   <g id=\"patch_3\">\n    <path d=\"M 78.453125 269.15 \nL 78.453125 24.15625 \n\" style=\"fill:none;stroke:#000000;stroke-linecap:square;stroke-linejoin:miter;stroke-width:0.8;\"/>\n   </g>\n   <g id=\"patch_4\">\n    <path d=\"M 323.446875 269.15 \nL 323.446875 24.15625 \n\" style=\"fill:none;stroke:#000000;stroke-linecap:square;stroke-linejoin:miter;stroke-width:0.8;\"/>\n   </g>\n   <g id=\"patch_5\">\n    <path d=\"M 78.453125 269.15 \nL 323.446875 269.15 \n\" style=\"fill:none;stroke:#000000;stroke-linecap:square;stroke-linejoin:miter;stroke-width:0.8;\"/>\n   </g>\n   <g id=\"patch_6\">\n    <path d=\"M 78.453125 24.15625 \nL 323.446875 24.15625 \n\" style=\"fill:none;stroke:#000000;stroke-linecap:square;stroke-linejoin:miter;stroke-width:0.8;\"/>\n   </g>\n  </g>\n  <g id=\"axes_2\">\n   <g id=\"patch_7\">\n    <path clip-path=\"url(#p2d8f6ae2eb)\" d=\"M 342.918125 269.15 \nL 342.918125 268.192993 \nL 342.918125 25.113257 \nL 342.918125 24.15625 \nL 355.167812 24.15625 \nL 355.167812 25.113257 \nL 355.167812 268.192993 \nL 355.167812 269.15 \nz\n\" style=\"fill:#ffffff;stroke:#ffffff;stroke-linejoin:miter;stroke-width:0.01;\"/>\n   </g>\n   <image height=\"245\" id=\"image8b00b47f1e\" transform=\"scale(1 -1)translate(0 -245)\" width=\"12\" x=\"343\" xlink:href=\"data:image/png;base64,\niVBORw0KGgoAAAANSUhEUgAAAAwAAAD1CAYAAABk6BQ2AAABXUlEQVR4nO2Z0Q3CMAxEHSdsxgzsvwiEFXiWzjrS8h3r3fkctyrjma8d4LdGDnI+VoxkBXpCcAIsGEklUUI0EKhpvxxiTjVBX6DvkmFwB7R1c0novGVbTzC9p1+X2PmKJHkOW+4Bd0k/rfqk9W0tEGgBXcZ6SZiw+QOFEg5IurBmKOGELt2EnwiGN05dgC/QCUkbSkKfTUoER9NXTNpQEifYbQ0o6E5aRYjBVtk1c/BrK79AhXcN6KGjrbhA7aEwfGpJ8MW4QxIvCH2XTiDAApw09pDyrYElQUCFwAvQ+VjZIOn/PSTdGo4e/AiFtqolrfyICdg0JxgWNJg+ITjoYTZ4ULd1GkrCW2O8ISH0HiiB5sAJeLzlo9FB0F8gvDX8RoN7UHdJn/QDbw398MmT5jdOPt6FJSC/og2S9M9pdL40GpTAJcE/gwuSIOEBv9GupB6wpGyQhAmsAH/3/gKCzonUYBrUgwAAAABJRU5ErkJggg==\" y=\"-23\"/>\n   <g id=\"matplotlib.axis_3\"/>\n   <g id=\"matplotlib.axis_4\">\n    <g id=\"ytick_5\">\n     <g id=\"line2d_13\">\n      <defs>\n       <path d=\"M 0 0 \nL 3.5 0 \n\" id=\"md324d701d7\" style=\"stroke:#000000;stroke-width:0.8;\"/>\n      </defs>\n      <g>\n       <use style=\"stroke:#000000;stroke-width:0.8;\" x=\"355.167812\" xlink:href=\"#md324d701d7\" y=\"242.079615\"/>\n      </g>\n     </g>\n     <g id=\"text_9\">\n      <!-- 0.0 -->\n      <g transform=\"translate(362.167812 245.878834)scale(0.1 -0.1)\">\n       <defs>\n        <path d=\"M 31.78125 66.40625 \nQ 24.171875 66.40625 20.328125 58.90625 \nQ 16.5 51.421875 16.5 36.375 \nQ 16.5 21.390625 20.328125 13.890625 \nQ 24.171875 6.390625 31.78125 6.390625 \nQ 39.453125 6.390625 43.28125 13.890625 \nQ 47.125 21.390625 47.125 36.375 \nQ 47.125 51.421875 43.28125 58.90625 \nQ 39.453125 66.40625 31.78125 66.40625 \nz\nM 31.78125 74.21875 \nQ 44.046875 74.21875 50.515625 64.515625 \nQ 56.984375 54.828125 56.984375 36.375 \nQ 56.984375 17.96875 50.515625 8.265625 \nQ 44.046875 -1.421875 31.78125 -1.421875 \nQ 19.53125 -1.421875 13.0625 8.265625 \nQ 6.59375 17.96875 6.59375 36.375 \nQ 6.59375 54.828125 13.0625 64.515625 \nQ 19.53125 74.21875 31.78125 74.21875 \nz\n\" id=\"DejaVuSans-48\"/>\n        <path d=\"M 10.6875 12.40625 \nL 21 12.40625 \nL 21 0 \nL 10.6875 0 \nz\n\" id=\"DejaVuSans-46\"/>\n       </defs>\n       <use xlink:href=\"#DejaVuSans-48\"/>\n       <use x=\"63.623047\" xlink:href=\"#DejaVuSans-46\"/>\n       <use x=\"95.410156\" xlink:href=\"#DejaVuSans-48\"/>\n      </g>\n     </g>\n    </g>\n    <g id=\"ytick_6\">\n     <g id=\"line2d_14\">\n      <g>\n       <use style=\"stroke:#000000;stroke-width:0.8;\" x=\"355.167812\" xlink:href=\"#md324d701d7\" y=\"198.494942\"/>\n      </g>\n     </g>\n     <g id=\"text_10\">\n      <!-- 0.2 -->\n      <g transform=\"translate(362.167812 202.294161)scale(0.1 -0.1)\">\n       <defs>\n        <path d=\"M 19.1875 8.296875 \nL 53.609375 8.296875 \nL 53.609375 0 \nL 7.328125 0 \nL 7.328125 8.296875 \nQ 12.9375 14.109375 22.625 23.890625 \nQ 32.328125 33.6875 34.8125 36.53125 \nQ 39.546875 41.84375 41.421875 45.53125 \nQ 43.3125 49.21875 43.3125 52.78125 \nQ 43.3125 58.59375 39.234375 62.25 \nQ 35.15625 65.921875 28.609375 65.921875 \nQ 23.96875 65.921875 18.8125 64.3125 \nQ 13.671875 62.703125 7.8125 59.421875 \nL 7.8125 69.390625 \nQ 13.765625 71.78125 18.9375 73 \nQ 24.125 74.21875 28.421875 74.21875 \nQ 39.75 74.21875 46.484375 68.546875 \nQ 53.21875 62.890625 53.21875 53.421875 \nQ 53.21875 48.921875 51.53125 44.890625 \nQ 49.859375 40.875 45.40625 35.40625 \nQ 44.1875 33.984375 37.640625 27.21875 \nQ 31.109375 20.453125 19.1875 8.296875 \nz\n\" id=\"DejaVuSans-50\"/>\n       </defs>\n       <use xlink:href=\"#DejaVuSans-48\"/>\n       <use x=\"63.623047\" xlink:href=\"#DejaVuSans-46\"/>\n       <use x=\"95.410156\" xlink:href=\"#DejaVuSans-50\"/>\n      </g>\n     </g>\n    </g>\n    <g id=\"ytick_7\">\n     <g id=\"line2d_15\">\n      <g>\n       <use style=\"stroke:#000000;stroke-width:0.8;\" x=\"355.167812\" xlink:href=\"#md324d701d7\" y=\"154.910269\"/>\n      </g>\n     </g>\n     <g id=\"text_11\">\n      <!-- 0.4 -->\n      <g transform=\"translate(362.167812 158.709488)scale(0.1 -0.1)\">\n       <defs>\n        <path d=\"M 37.796875 64.3125 \nL 12.890625 25.390625 \nL 37.796875 25.390625 \nz\nM 35.203125 72.90625 \nL 47.609375 72.90625 \nL 47.609375 25.390625 \nL 58.015625 25.390625 \nL 58.015625 17.1875 \nL 47.609375 17.1875 \nL 47.609375 0 \nL 37.796875 0 \nL 37.796875 17.1875 \nL 4.890625 17.1875 \nL 4.890625 26.703125 \nz\n\" id=\"DejaVuSans-52\"/>\n       </defs>\n       <use xlink:href=\"#DejaVuSans-48\"/>\n       <use x=\"63.623047\" xlink:href=\"#DejaVuSans-46\"/>\n       <use x=\"95.410156\" xlink:href=\"#DejaVuSans-52\"/>\n      </g>\n     </g>\n    </g>\n    <g id=\"ytick_8\">\n     <g id=\"line2d_16\">\n      <g>\n       <use style=\"stroke:#000000;stroke-width:0.8;\" x=\"355.167812\" xlink:href=\"#md324d701d7\" y=\"111.325596\"/>\n      </g>\n     </g>\n     <g id=\"text_12\">\n      <!-- 0.6 -->\n      <g transform=\"translate(362.167812 115.124815)scale(0.1 -0.1)\">\n       <defs>\n        <path d=\"M 33.015625 40.375 \nQ 26.375 40.375 22.484375 35.828125 \nQ 18.609375 31.296875 18.609375 23.390625 \nQ 18.609375 15.53125 22.484375 10.953125 \nQ 26.375 6.390625 33.015625 6.390625 \nQ 39.65625 6.390625 43.53125 10.953125 \nQ 47.40625 15.53125 47.40625 23.390625 \nQ 47.40625 31.296875 43.53125 35.828125 \nQ 39.65625 40.375 33.015625 40.375 \nz\nM 52.59375 71.296875 \nL 52.59375 62.3125 \nQ 48.875 64.0625 45.09375 64.984375 \nQ 41.3125 65.921875 37.59375 65.921875 \nQ 27.828125 65.921875 22.671875 59.328125 \nQ 17.53125 52.734375 16.796875 39.40625 \nQ 19.671875 43.65625 24.015625 45.921875 \nQ 28.375 48.1875 33.59375 48.1875 \nQ 44.578125 48.1875 50.953125 41.515625 \nQ 57.328125 34.859375 57.328125 23.390625 \nQ 57.328125 12.15625 50.6875 5.359375 \nQ 44.046875 -1.421875 33.015625 -1.421875 \nQ 20.359375 -1.421875 13.671875 8.265625 \nQ 6.984375 17.96875 6.984375 36.375 \nQ 6.984375 53.65625 15.1875 63.9375 \nQ 23.390625 74.21875 37.203125 74.21875 \nQ 40.921875 74.21875 44.703125 73.484375 \nQ 48.484375 72.75 52.59375 71.296875 \nz\n\" id=\"DejaVuSans-54\"/>\n       </defs>\n       <use xlink:href=\"#DejaVuSans-48\"/>\n       <use x=\"63.623047\" xlink:href=\"#DejaVuSans-46\"/>\n       <use x=\"95.410156\" xlink:href=\"#DejaVuSans-54\"/>\n      </g>\n     </g>\n    </g>\n    <g id=\"ytick_9\">\n     <g id=\"line2d_17\">\n      <g>\n       <use style=\"stroke:#000000;stroke-width:0.8;\" x=\"355.167812\" xlink:href=\"#md324d701d7\" y=\"67.740923\"/>\n      </g>\n     </g>\n     <g id=\"text_13\">\n      <!-- 0.8 -->\n      <g transform=\"translate(362.167812 71.540142)scale(0.1 -0.1)\">\n       <defs>\n        <path d=\"M 31.78125 34.625 \nQ 24.75 34.625 20.71875 30.859375 \nQ 16.703125 27.09375 16.703125 20.515625 \nQ 16.703125 13.921875 20.71875 10.15625 \nQ 24.75 6.390625 31.78125 6.390625 \nQ 38.8125 6.390625 42.859375 10.171875 \nQ 46.921875 13.96875 46.921875 20.515625 \nQ 46.921875 27.09375 42.890625 30.859375 \nQ 38.875 34.625 31.78125 34.625 \nz\nM 21.921875 38.8125 \nQ 15.578125 40.375 12.03125 44.71875 \nQ 8.5 49.078125 8.5 55.328125 \nQ 8.5 64.0625 14.71875 69.140625 \nQ 20.953125 74.21875 31.78125 74.21875 \nQ 42.671875 74.21875 48.875 69.140625 \nQ 55.078125 64.0625 55.078125 55.328125 \nQ 55.078125 49.078125 51.53125 44.71875 \nQ 48 40.375 41.703125 38.8125 \nQ 48.828125 37.15625 52.796875 32.3125 \nQ 56.78125 27.484375 56.78125 20.515625 \nQ 56.78125 9.90625 50.3125 4.234375 \nQ 43.84375 -1.421875 31.78125 -1.421875 \nQ 19.734375 -1.421875 13.25 4.234375 \nQ 6.78125 9.90625 6.78125 20.515625 \nQ 6.78125 27.484375 10.78125 32.3125 \nQ 14.796875 37.15625 21.921875 38.8125 \nz\nM 18.3125 54.390625 \nQ 18.3125 48.734375 21.84375 45.5625 \nQ 25.390625 42.390625 31.78125 42.390625 \nQ 38.140625 42.390625 41.71875 45.5625 \nQ 45.3125 48.734375 45.3125 54.390625 \nQ 45.3125 60.0625 41.71875 63.234375 \nQ 38.140625 66.40625 31.78125 66.40625 \nQ 25.390625 66.40625 21.84375 63.234375 \nQ 18.3125 60.0625 18.3125 54.390625 \nz\n\" id=\"DejaVuSans-56\"/>\n       </defs>\n       <use xlink:href=\"#DejaVuSans-48\"/>\n       <use x=\"63.623047\" xlink:href=\"#DejaVuSans-46\"/>\n       <use x=\"95.410156\" xlink:href=\"#DejaVuSans-56\"/>\n      </g>\n     </g>\n    </g>\n    <g id=\"ytick_10\">\n     <g id=\"line2d_18\">\n      <g>\n       <use style=\"stroke:#000000;stroke-width:0.8;\" x=\"355.167812\" xlink:href=\"#md324d701d7\" y=\"24.15625\"/>\n      </g>\n     </g>\n     <g id=\"text_14\">\n      <!-- 1.0 -->\n      <g transform=\"translate(362.167812 27.955469)scale(0.1 -0.1)\">\n       <defs>\n        <path d=\"M 12.40625 8.296875 \nL 28.515625 8.296875 \nL 28.515625 63.921875 \nL 10.984375 60.40625 \nL 10.984375 69.390625 \nL 28.421875 72.90625 \nL 38.28125 72.90625 \nL 38.28125 8.296875 \nL 54.390625 8.296875 \nL 54.390625 0 \nL 12.40625 0 \nz\n\" id=\"DejaVuSans-49\"/>\n       </defs>\n       <use xlink:href=\"#DejaVuSans-49\"/>\n       <use x=\"63.623047\" xlink:href=\"#DejaVuSans-46\"/>\n       <use x=\"95.410156\" xlink:href=\"#DejaVuSans-48\"/>\n      </g>\n     </g>\n    </g>\n   </g>\n   <g id=\"patch_8\">\n    <path d=\"M 342.918125 269.15 \nL 342.918125 268.192993 \nL 342.918125 25.113257 \nL 342.918125 24.15625 \nL 355.167812 24.15625 \nL 355.167812 25.113257 \nL 355.167812 268.192993 \nL 355.167812 269.15 \nz\n\" style=\"fill:none;stroke:#000000;stroke-linejoin:miter;stroke-width:0.8;\"/>\n   </g>\n  </g>\n </g>\n <defs>\n  <clipPath id=\"pc4cf47feb2\">\n   <rect height=\"244.99375\" width=\"244.99375\" x=\"78.453125\" y=\"24.15625\"/>\n  </clipPath>\n  <clipPath id=\"p2d8f6ae2eb\">\n   <rect height=\"244.99375\" width=\"12.249687\" x=\"342.918125\" y=\"24.15625\"/>\n  </clipPath>\n </defs>\n</svg>\n",
      "image/png": "[encoded data removed]"
     },
     "metadata": {
      "needs_background": "light"
     }
    }
   ],
   "source": [
    "# Select columns\n",
    "cols = un_data.columns\n",
    "\n",
    "# Make subplot and figure\n",
    "fig, ax = plt.subplots(1, 1)\n",
    "\n",
    "# Generate correlation matrix\n",
    "corr_data = un_data.corr()\n",
    "\n",
    "# Generate matplotlib plot\n",
    "cax = ax.matshow(corr_data) \n",
    "\n",
    "# Add colorbar to figure\n",
    "fig.colorbar(cax)\n",
    "\n",
    "# Set tick labels\n",
    "ax.set_xticklabels(cols)\n",
    "ax.set_yticklabels(cols)\n",
    "\n",
    "fig.tight_layout()"
   ]
  },
  {
   "cell_type": "code",
   "execution_count": null,
   "metadata": {},
   "outputs": [],
   "source": []
  }
 ]
}